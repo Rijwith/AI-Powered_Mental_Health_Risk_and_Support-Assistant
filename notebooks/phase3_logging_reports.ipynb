{
 "cells": [
  {
   "cell_type": "code",
   "execution_count": 1,
   "id": "23ca129e",
   "metadata": {},
   "outputs": [
    {
     "name": "stdout",
     "output_type": "stream",
     "text": [
      "📊 Session Info:\n",
      "   session_id              session_start                session_end  \\\n",
      "0           0 2025-09-11 18:04:58.393468 2025-09-11 18:07:36.508890   \n",
      "1           1 2025-09-12 00:10:39.999553 2025-09-12 00:17:52.305095   \n",
      "2           2 2025-09-16 09:53:26.244660 2025-09-16 09:55:15.503289   \n",
      "\n",
      "   message_count       session_duration  duration_minutes  \n",
      "0              7 0 days 00:02:38.115422          2.635257  \n",
      "1             16 0 days 00:07:12.305542          7.205092  \n",
      "2              4 0 days 00:01:49.258629          1.820977  \n"
     ]
    },
    {
     "data": {
      "image/png": "[encoded data removed]",
      "text/plain": [
       "<Figure size 800x500 with 1 Axes>"
      ]
     },
     "metadata": {},
     "output_type": "display_data"
    },
    {
     "data": {
      "application/vnd.plotly.v1+json": {
       "config": {
        "plotlyServerURL": "https://plot.ly"
       },
       "data": [
        {
         "bingroup": "x",
         "hovertemplate": "Duration (minutes)=%{x}<br>count=%{y}<extra></extra>",
         "legendgroup": "",
         "marker": {
          "color": "#1f77b4",
          "pattern": {
           "shape": ""
          }
         },
         "name": "",
         "nbinsx": 10,
         "orientation": "v",
         "showlegend": false,
         "type": "histogram",
         "x": {
          "bdata": "48O1owEVBUBl+L27A9IcQGw2oO+4Iv0/",
          "dtype": "f8"
         },
         "xaxis": "x",
         "yaxis": "y"
        }
       ],
       "layout": {
        "bargap": 0.1,
        "barmode": "relative",
        "legend": {
         "tracegroupgap": 0
        },
        "template": {
         "data": {
          "bar": [
           {
            "error_x": {
             "color": "#2a3f5f"
            },
            "error_y": {
             "color": "#2a3f5f"
            },
            "marker": {
             "line": {
              "color": "#E5ECF6",
              "width": 0.5
             },
             "pattern": {
              "fillmode": "overlay",
              "size": 10,
              "solidity": 0.2
             }
            },
            "type": "bar"
           }
          ],
          "barpolar": [
           {
            "marker": {
             "line": {
              "color": "#E5ECF6",
              "width": 0.5
             },
             "pattern": {
              "fillmode": "overlay",
              "size": 10,
              "solidity": 0.2
             }
            },
            "type": "barpolar"
           }
          ],
          "carpet": [
           {
            "aaxis": {
             "endlinecolor": "#2a3f5f",
             "gridcolor": "white",
             "linecolor": "white",
             "minorgridcolor": "white",
             "startlinecolor": "#2a3f5f"
            },
            "baxis": {
             "endlinecolor": "#2a3f5f",
             "gridcolor": "white",
             "linecolor": "white",
             "minorgridcolor": "white",
             "startlinecolor": "#2a3f5f"
            },
            "type": "carpet"
           }
          ],
          "choropleth": [
           {
            "colorbar": {
             "outlinewidth": 0,
             "ticks": ""
            },
            "type": "choropleth"
           }
          ],
          "contour": [
           {
            "colorbar": {
             "outlinewidth": 0,
             "ticks": ""
            },
            "colorscale": [
             [
              0,
              "#0d0887"
             ],
             [
              0.1111111111111111,
              "#46039f"
             ],
             [
              0.2222222222222222,
              "#7201a8"
             ],
             [
              0.3333333333333333,
              "#9c179e"
             ],
             [
              0.4444444444444444,
              "#bd3786"
             ],
             [
              0.5555555555555556,
              "#d8576b"
             ],
             [
              0.6666666666666666,
              "#ed7953"
             ],
             [
              0.7777777777777778,
              "#fb9f3a"
             ],
             [
              0.8888888888888888,
              "#fdca26"
             ],
             [
              1,
              "#f0f921"
             ]
            ],
            "type": "contour"
           }
          ],
          "contourcarpet": [
           {
            "colorbar": {
             "outlinewidth": 0,
             "ticks": ""
            },
            "type": "contourcarpet"
           }
          ],
          "heatmap": [
           {
            "colorbar": {
             "outlinewidth": 0,
             "ticks": ""
            },
            "colorscale": [
             [
              0,
              "#0d0887"
             ],
             [
              0.1111111111111111,
              "#46039f"
             ],
             [
              0.2222222222222222,
              "#7201a8"
             ],
             [
              0.3333333333333333,
              "#9c179e"
             ],
             [
              0.4444444444444444,
              "#bd3786"
             ],
             [
              0.5555555555555556,
              "#d8576b"
             ],
             [
              0.6666666666666666,
              "#ed7953"
             ],
             [
              0.7777777777777778,
              "#fb9f3a"
             ],
             [
              0.8888888888888888,
              "#fdca26"
             ],
             [
              1,
              "#f0f921"
             ]
            ],
            "type": "heatmap"
           }
          ],
          "histogram": [
           {
            "marker": {
             "pattern": {
              "fillmode": "overlay",
              "size": 10,
              "solidity": 0.2
             }
            },
            "type": "histogram"
           }
          ],
          "histogram2d": [
           {
            "colorbar": {
             "outlinewidth": 0,
             "ticks": ""
            },
            "colorscale": [
             [
              0,
              "#0d0887"
             ],
             [
              0.1111111111111111,
              "#46039f"
             ],
             [
              0.2222222222222222,
              "#7201a8"
             ],
             [
              0.3333333333333333,
              "#9c179e"
             ],
             [
              0.4444444444444444,
              "#bd3786"
             ],
             [
              0.5555555555555556,
              "#d8576b"
             ],
             [
              0.6666666666666666,
              "#ed7953"
             ],
             [
              0.7777777777777778,
              "#fb9f3a"
             ],
             [
              0.8888888888888888,
              "#fdca26"
             ],
             [
              1,
              "#f0f921"
             ]
            ],
            "type": "histogram2d"
           }
          ],
          "histogram2dcontour": [
           {
            "colorbar": {
             "outlinewidth": 0,
             "ticks": ""
            },
            "colorscale": [
             [
              0,
              "#0d0887"
             ],
             [
              0.1111111111111111,
              "#46039f"
             ],
             [
              0.2222222222222222,
              "#7201a8"
             ],
             [
              0.3333333333333333,
              "#9c179e"
             ],
             [
              0.4444444444444444,
              "#bd3786"
             ],
             [
              0.5555555555555556,
              "#d8576b"
             ],
             [
              0.6666666666666666,
              "#ed7953"
             ],
             [
              0.7777777777777778,
              "#fb9f3a"
             ],
             [
              0.8888888888888888,
              "#fdca26"
             ],
             [
              1,
              "#f0f921"
             ]
            ],
            "type": "histogram2dcontour"
           }
          ],
          "mesh3d": [
           {
            "colorbar": {
             "outlinewidth": 0,
             "ticks": ""
            },
            "type": "mesh3d"
           }
          ],
          "parcoords": [
           {
            "line": {
             "colorbar": {
              "outlinewidth": 0,
              "ticks": ""
             }
            },
            "type": "parcoords"
           }
          ],
          "pie": [
           {
            "automargin": true,
            "type": "pie"
           }
          ],
          "scatter": [
           {
            "fillpattern": {
             "fillmode": "overlay",
             "size": 10,
             "solidity": 0.2
            },
            "type": "scatter"
           }
          ],
          "scatter3d": [
           {
            "line": {
             "colorbar": {
              "outlinewidth": 0,
              "ticks": ""
             }
            },
            "marker": {
             "colorbar": {
              "outlinewidth": 0,
              "ticks": ""
             }
            },
            "type": "scatter3d"
           }
          ],
          "scattercarpet": [
           {
            "marker": {
             "colorbar": {
              "outlinewidth": 0,
              "ticks": ""
             }
            },
            "type": "scattercarpet"
           }
          ],
          "scattergeo": [
           {
            "marker": {
             "colorbar": {
              "outlinewidth": 0,
              "ticks": ""
             }
            },
            "type": "scattergeo"
           }
          ],
          "scattergl": [
           {
            "marker": {
             "colorbar": {
              "outlinewidth": 0,
              "ticks": ""
             }
            },
            "type": "scattergl"
           }
          ],
          "scattermap": [
           {
            "marker": {
             "colorbar": {
              "outlinewidth": 0,
              "ticks": ""
             }
            },
            "type": "scattermap"
           }
          ],
          "scattermapbox": [
           {
            "marker": {
             "colorbar": {
              "outlinewidth": 0,
              "ticks": ""
             }
            },
            "type": "scattermapbox"
           }
          ],
          "scatterpolar": [
           {
            "marker": {
             "colorbar": {
              "outlinewidth": 0,
              "ticks": ""
             }
            },
            "type": "scatterpolar"
           }
          ],
          "scatterpolargl": [
           {
            "marker": {
             "colorbar": {
              "outlinewidth": 0,
              "ticks": ""
             }
            },
            "type": "scatterpolargl"
           }
          ],
          "scatterternary": [
           {
            "marker": {
             "colorbar": {
              "outlinewidth": 0,
              "ticks": ""
             }
            },
            "type": "scatterternary"
           }
          ],
          "surface": [
           {
            "colorbar": {
             "outlinewidth": 0,
             "ticks": ""
            },
            "colorscale": [
             [
              0,
              "#0d0887"
             ],
             [
              0.1111111111111111,
              "#46039f"
             ],
             [
              0.2222222222222222,
              "#7201a8"
             ],
             [
              0.3333333333333333,
              "#9c179e"
             ],
             [
              0.4444444444444444,
              "#bd3786"
             ],
             [
              0.5555555555555556,
              "#d8576b"
             ],
             [
              0.6666666666666666,
              "#ed7953"
             ],
             [
              0.7777777777777778,
              "#fb9f3a"
             ],
             [
              0.8888888888888888,
              "#fdca26"
             ],
             [
              1,
              "#f0f921"
             ]
            ],
            "type": "surface"
           }
          ],
          "table": [
           {
            "cells": {
             "fill": {
              "color": "#EBF0F8"
             },
             "line": {
              "color": "white"
             }
            },
            "header": {
             "fill": {
              "color": "#C8D4E3"
             },
             "line": {
              "color": "white"
             }
            },
            "type": "table"
           }
          ]
         },
         "layout": {
          "annotationdefaults": {
           "arrowcolor": "#2a3f5f",
           "arrowhead": 0,
           "arrowwidth": 1
          },
          "autotypenumbers": "strict",
          "coloraxis": {
           "colorbar": {
            "outlinewidth": 0,
            "ticks": ""
           }
          },
          "colorscale": {
           "diverging": [
            [
             0,
             "#8e0152"
            ],
            [
             0.1,
             "#c51b7d"
            ],
            [
             0.2,
             "#de77ae"
            ],
            [
             0.3,
             "#f1b6da"
            ],
            [
             0.4,
             "#fde0ef"
            ],
            [
             0.5,
             "#f7f7f7"
            ],
            [
             0.6,
             "#e6f5d0"
            ],
            [
             0.7,
             "#b8e186"
            ],
            [
             0.8,
             "#7fbc41"
            ],
            [
             0.9,
             "#4d9221"
            ],
            [
             1,
             "#276419"
            ]
           ],
           "sequential": [
            [
             0,
             "#0d0887"
            ],
            [
             0.1111111111111111,
             "#46039f"
            ],
            [
             0.2222222222222222,
             "#7201a8"
            ],
            [
             0.3333333333333333,
             "#9c179e"
            ],
            [
             0.4444444444444444,
             "#bd3786"
            ],
            [
             0.5555555555555556,
             "#d8576b"
            ],
            [
             0.6666666666666666,
             "#ed7953"
            ],
            [
             0.7777777777777778,
             "#fb9f3a"
            ],
            [
             0.8888888888888888,
             "#fdca26"
            ],
            [
             1,
             "#f0f921"
            ]
           ],
           "sequentialminus": [
            [
             0,
             "#0d0887"
            ],
            [
             0.1111111111111111,
             "#46039f"
            ],
            [
             0.2222222222222222,
             "#7201a8"
            ],
            [
             0.3333333333333333,
             "#9c179e"
            ],
            [
             0.4444444444444444,
             "#bd3786"
            ],
            [
             0.5555555555555556,
             "#d8576b"
            ],
            [
             0.6666666666666666,
             "#ed7953"
            ],
            [
             0.7777777777777778,
             "#fb9f3a"
            ],
            [
             0.8888888888888888,
             "#fdca26"
            ],
            [
             1,
             "#f0f921"
            ]
           ]
          },
          "colorway": [
           "#636efa",
           "#EF553B",
           "#00cc96",
           "#ab63fa",
           "#FFA15A",
           "#19d3f3",
           "#FF6692",
           "#B6E880",
           "#FF97FF",
           "#FECB52"
          ],
          "font": {
           "color": "#2a3f5f"
          },
          "geo": {
           "bgcolor": "white",
           "lakecolor": "white",
           "landcolor": "#E5ECF6",
           "showlakes": true,
           "showland": true,
           "subunitcolor": "white"
          },
          "hoverlabel": {
           "align": "left"
          },
          "hovermode": "closest",
          "mapbox": {
           "style": "light"
          },
          "paper_bgcolor": "white",
          "plot_bgcolor": "#E5ECF6",
          "polar": {
           "angularaxis": {
            "gridcolor": "white",
            "linecolor": "white",
            "ticks": ""
           },
           "bgcolor": "#E5ECF6",
           "radialaxis": {
            "gridcolor": "white",
            "linecolor": "white",
            "ticks": ""
           }
          },
          "scene": {
           "xaxis": {
            "backgroundcolor": "#E5ECF6",
            "gridcolor": "white",
            "gridwidth": 2,
            "linecolor": "white",
            "showbackground": true,
            "ticks": "",
            "zerolinecolor": "white"
           },
           "yaxis": {
            "backgroundcolor": "#E5ECF6",
            "gridcolor": "white",
            "gridwidth": 2,
            "linecolor": "white",
            "showbackground": true,
            "ticks": "",
            "zerolinecolor": "white"
           },
           "zaxis": {
            "backgroundcolor": "#E5ECF6",
            "gridcolor": "white",
            "gridwidth": 2,
            "linecolor": "white",
            "showbackground": true,
            "ticks": "",
            "zerolinecolor": "white"
           }
          },
          "shapedefaults": {
           "line": {
            "color": "#2a3f5f"
           }
          },
          "ternary": {
           "aaxis": {
            "gridcolor": "white",
            "linecolor": "white",
            "ticks": ""
           },
           "baxis": {
            "gridcolor": "white",
            "linecolor": "white",
            "ticks": ""
           },
           "bgcolor": "#E5ECF6",
           "caxis": {
            "gridcolor": "white",
            "linecolor": "white",
            "ticks": ""
           }
          },
          "title": {
           "x": 0.05
          },
          "xaxis": {
           "automargin": true,
           "gridcolor": "white",
           "linecolor": "white",
           "ticks": "",
           "title": {
            "standoff": 15
           },
           "zerolinecolor": "white",
           "zerolinewidth": 2
          },
          "yaxis": {
           "automargin": true,
           "gridcolor": "white",
           "linecolor": "white",
           "ticks": "",
           "title": {
            "standoff": 15
           },
           "zerolinecolor": "white",
           "zerolinewidth": 2
          }
         }
        },
        "title": {
         "text": "Interactive Distribution of Session Durations"
        },
        "xaxis": {
         "anchor": "y",
         "domain": [
          0,
          1
         ],
         "title": {
          "text": "Duration (minutes)"
         }
        },
        "yaxis": {
         "anchor": "x",
         "domain": [
          0,
          1
         ],
         "title": {
          "text": "count"
         }
        }
       }
      }
     },
     "metadata": {},
     "output_type": "display_data"
    },
    {
     "data": {
      "application/vnd.plotly.v1+json": {
       "config": {
        "plotlyServerURL": "https://plot.ly"
       },
       "data": [
        {
         "fill": "toself",
         "fillcolor": "rgb(255, 127, 14)",
         "hoverinfo": "name",
         "legendgroup": "rgb(255, 127, 14)",
         "mode": "none",
         "name": "Session 1",
         "showlegend": true,
         "type": "scatter",
         "x": [
          "2025-09-12T00:10:39.999553",
          "2025-09-12T00:17:52.305095",
          "2025-09-12T00:17:52.305095",
          "2025-09-12T00:10:39.999553"
         ],
         "y": [
          0.8,
          0.8,
          1.2,
          1.2
         ]
        },
        {
         "fill": "toself",
         "fillcolor": "rgb(31, 119, 180)",
         "hoverinfo": "name",
         "legendgroup": "rgb(31, 119, 180)",
         "mode": "none",
         "name": "Session 0",
         "showlegend": true,
         "type": "scatter",
         "x": [
          "2025-09-11T18:04:58.393468",
          "2025-09-11T18:07:36.508890",
          "2025-09-11T18:07:36.508890",
          "2025-09-11T18:04:58.393468"
         ],
         "y": [
          1.8,
          1.8,
          2.2,
          2.2
         ]
        },
        {
         "fill": "toself",
         "fillcolor": "rgb(44, 160, 44)",
         "hoverinfo": "name",
         "legendgroup": "rgb(44, 160, 44)",
         "mode": "none",
         "name": "Session 2",
         "showlegend": true,
         "type": "scatter",
         "x": [
          "2025-09-16T09:53:26.244660",
          "2025-09-16T09:55:15.503289",
          "2025-09-16T09:55:15.503289",
          "2025-09-16T09:53:26.244660"
         ],
         "y": [
          -0.2,
          -0.2,
          0.2,
          0.2
         ]
        },
        {
         "legendgroup": "rgb(255, 127, 14)",
         "marker": {
          "color": "rgb(255, 127, 14)",
          "opacity": 0,
          "size": 1
         },
         "mode": "markers",
         "name": "",
         "showlegend": false,
         "text": [
          null,
          null
         ],
         "type": "scatter",
         "x": [
          "2025-09-12T00:10:39.999553",
          "2025-09-12T00:17:52.305095"
         ],
         "y": [
          1,
          1
         ]
        },
        {
         "legendgroup": "rgb(31, 119, 180)",
         "marker": {
          "color": "rgb(31, 119, 180)",
          "opacity": 0,
          "size": 1
         },
         "mode": "markers",
         "name": "",
         "showlegend": false,
         "text": [
          null,
          null
         ],
         "type": "scatter",
         "x": [
          "2025-09-11T18:04:58.393468",
          "2025-09-11T18:07:36.508890"
         ],
         "y": [
          2,
          2
         ]
        },
        {
         "legendgroup": "rgb(44, 160, 44)",
         "marker": {
          "color": "rgb(44, 160, 44)",
          "opacity": 0,
          "size": 1
         },
         "mode": "markers",
         "name": "",
         "showlegend": false,
         "text": [
          null,
          null
         ],
         "type": "scatter",
         "x": [
          "2025-09-16T09:53:26.244660",
          "2025-09-16T09:55:15.503289"
         ],
         "y": [
          0,
          0
         ]
        }
       ],
       "layout": {
        "height": 600,
        "hovermode": "closest",
        "showlegend": true,
        "template": {
         "data": {
          "bar": [
           {
            "error_x": {
             "color": "#2a3f5f"
            },
            "error_y": {
             "color": "#2a3f5f"
            },
            "marker": {
             "line": {
              "color": "#E5ECF6",
              "width": 0.5
             },
             "pattern": {
              "fillmode": "overlay",
              "size": 10,
              "solidity": 0.2
             }
            },
            "type": "bar"
           }
          ],
          "barpolar": [
           {
            "marker": {
             "line": {
              "color": "#E5ECF6",
              "width": 0.5
             },
             "pattern": {
              "fillmode": "overlay",
              "size": 10,
              "solidity": 0.2
             }
            },
            "type": "barpolar"
           }
          ],
          "carpet": [
           {
            "aaxis": {
             "endlinecolor": "#2a3f5f",
             "gridcolor": "white",
             "linecolor": "white",
             "minorgridcolor": "white",
             "startlinecolor": "#2a3f5f"
            },
            "baxis": {
             "endlinecolor": "#2a3f5f",
             "gridcolor": "white",
             "linecolor": "white",
             "minorgridcolor": "white",
             "startlinecolor": "#2a3f5f"
            },
            "type": "carpet"
           }
          ],
          "choropleth": [
           {
            "colorbar": {
             "outlinewidth": 0,
             "ticks": ""
            },
            "type": "choropleth"
           }
          ],
          "contour": [
           {
            "colorbar": {
             "outlinewidth": 0,
             "ticks": ""
            },
            "colorscale": [
             [
              0,
              "#0d0887"
             ],
             [
              0.1111111111111111,
              "#46039f"
             ],
             [
              0.2222222222222222,
              "#7201a8"
             ],
             [
              0.3333333333333333,
              "#9c179e"
             ],
             [
              0.4444444444444444,
              "#bd3786"
             ],
             [
              0.5555555555555556,
              "#d8576b"
             ],
             [
              0.6666666666666666,
              "#ed7953"
             ],
             [
              0.7777777777777778,
              "#fb9f3a"
             ],
             [
              0.8888888888888888,
              "#fdca26"
             ],
             [
              1,
              "#f0f921"
             ]
            ],
            "type": "contour"
           }
          ],
          "contourcarpet": [
           {
            "colorbar": {
             "outlinewidth": 0,
             "ticks": ""
            },
            "type": "contourcarpet"
           }
          ],
          "heatmap": [
           {
            "colorbar": {
             "outlinewidth": 0,
             "ticks": ""
            },
            "colorscale": [
             [
              0,
              "#0d0887"
             ],
             [
              0.1111111111111111,
              "#46039f"
             ],
             [
              0.2222222222222222,
              "#7201a8"
             ],
             [
              0.3333333333333333,
              "#9c179e"
             ],
             [
              0.4444444444444444,
              "#bd3786"
             ],
             [
              0.5555555555555556,
              "#d8576b"
             ],
             [
              0.6666666666666666,
              "#ed7953"
             ],
             [
              0.7777777777777778,
              "#fb9f3a"
             ],
             [
              0.8888888888888888,
              "#fdca26"
             ],
             [
              1,
              "#f0f921"
             ]
            ],
            "type": "heatmap"
           }
          ],
          "histogram": [
           {
            "marker": {
             "pattern": {
              "fillmode": "overlay",
              "size": 10,
              "solidity": 0.2
             }
            },
            "type": "histogram"
           }
          ],
          "histogram2d": [
           {
            "colorbar": {
             "outlinewidth": 0,
             "ticks": ""
            },
            "colorscale": [
             [
              0,
              "#0d0887"
             ],
             [
              0.1111111111111111,
              "#46039f"
             ],
             [
              0.2222222222222222,
              "#7201a8"
             ],
             [
              0.3333333333333333,
              "#9c179e"
             ],
             [
              0.4444444444444444,
              "#bd3786"
             ],
             [
              0.5555555555555556,
              "#d8576b"
             ],
             [
              0.6666666666666666,
              "#ed7953"
             ],
             [
              0.7777777777777778,
              "#fb9f3a"
             ],
             [
              0.8888888888888888,
              "#fdca26"
             ],
             [
              1,
              "#f0f921"
             ]
            ],
            "type": "histogram2d"
           }
          ],
          "histogram2dcontour": [
           {
            "colorbar": {
             "outlinewidth": 0,
             "ticks": ""
            },
            "colorscale": [
             [
              0,
              "#0d0887"
             ],
             [
              0.1111111111111111,
              "#46039f"
             ],
             [
              0.2222222222222222,
              "#7201a8"
             ],
             [
              0.3333333333333333,
              "#9c179e"
             ],
             [
              0.4444444444444444,
              "#bd3786"
             ],
             [
              0.5555555555555556,
              "#d8576b"
             ],
             [
              0.6666666666666666,
              "#ed7953"
             ],
             [
              0.7777777777777778,
              "#fb9f3a"
             ],
             [
              0.8888888888888888,
              "#fdca26"
             ],
             [
              1,
              "#f0f921"
             ]
            ],
            "type": "histogram2dcontour"
           }
          ],
          "mesh3d": [
           {
            "colorbar": {
             "outlinewidth": 0,
             "ticks": ""
            },
            "type": "mesh3d"
           }
          ],
          "parcoords": [
           {
            "line": {
             "colorbar": {
              "outlinewidth": 0,
              "ticks": ""
             }
            },
            "type": "parcoords"
           }
          ],
          "pie": [
           {
            "automargin": true,
            "type": "pie"
           }
          ],
          "scatter": [
           {
            "fillpattern": {
             "fillmode": "overlay",
             "size": 10,
             "solidity": 0.2
            },
            "type": "scatter"
           }
          ],
          "scatter3d": [
           {
            "line": {
             "colorbar": {
              "outlinewidth": 0,
              "ticks": ""
             }
            },
            "marker": {
             "colorbar": {
              "outlinewidth": 0,
              "ticks": ""
             }
            },
            "type": "scatter3d"
           }
          ],
          "scattercarpet": [
           {
            "marker": {
             "colorbar": {
              "outlinewidth": 0,
              "ticks": ""
             }
            },
            "type": "scattercarpet"
           }
          ],
          "scattergeo": [
           {
            "marker": {
             "colorbar": {
              "outlinewidth": 0,
              "ticks": ""
             }
            },
            "type": "scattergeo"
           }
          ],
          "scattergl": [
           {
            "marker": {
             "colorbar": {
              "outlinewidth": 0,
              "ticks": ""
             }
            },
            "type": "scattergl"
           }
          ],
          "scattermap": [
           {
            "marker": {
             "colorbar": {
              "outlinewidth": 0,
              "ticks": ""
             }
            },
            "type": "scattermap"
           }
          ],
          "scattermapbox": [
           {
            "marker": {
             "colorbar": {
              "outlinewidth": 0,
              "ticks": ""
             }
            },
            "type": "scattermapbox"
           }
          ],
          "scatterpolar": [
           {
            "marker": {
             "colorbar": {
              "outlinewidth": 0,
              "ticks": ""
             }
            },
            "type": "scatterpolar"
           }
          ],
          "scatterpolargl": [
           {
            "marker": {
             "colorbar": {
              "outlinewidth": 0,
              "ticks": ""
             }
            },
            "type": "scatterpolargl"
           }
          ],
          "scatterternary": [
           {
            "marker": {
             "colorbar": {
              "outlinewidth": 0,
              "ticks": ""
             }
            },
            "type": "scatterternary"
           }
          ],
          "surface": [
           {
            "colorbar": {
             "outlinewidth": 0,
             "ticks": ""
            },
            "colorscale": [
             [
              0,
              "#0d0887"
             ],
             [
              0.1111111111111111,
              "#46039f"
             ],
             [
              0.2222222222222222,
              "#7201a8"
             ],
             [
              0.3333333333333333,
              "#9c179e"
             ],
             [
              0.4444444444444444,
              "#bd3786"
             ],
             [
              0.5555555555555556,
              "#d8576b"
             ],
             [
              0.6666666666666666,
              "#ed7953"
             ],
             [
              0.7777777777777778,
              "#fb9f3a"
             ],
             [
              0.8888888888888888,
              "#fdca26"
             ],
             [
              1,
              "#f0f921"
             ]
            ],
            "type": "surface"
           }
          ],
          "table": [
           {
            "cells": {
             "fill": {
              "color": "#EBF0F8"
             },
             "line": {
              "color": "white"
             }
            },
            "header": {
             "fill": {
              "color": "#C8D4E3"
             },
             "line": {
              "color": "white"
             }
            },
            "type": "table"
           }
          ]
         },
         "layout": {
          "annotationdefaults": {
           "arrowcolor": "#2a3f5f",
           "arrowhead": 0,
           "arrowwidth": 1
          },
          "autotypenumbers": "strict",
          "coloraxis": {
           "colorbar": {
            "outlinewidth": 0,
            "ticks": ""
           }
          },
          "colorscale": {
           "diverging": [
            [
             0,
             "#8e0152"
            ],
            [
             0.1,
             "#c51b7d"
            ],
            [
             0.2,
             "#de77ae"
            ],
            [
             0.3,
             "#f1b6da"
            ],
            [
             0.4,
             "#fde0ef"
            ],
            [
             0.5,
             "#f7f7f7"
            ],
            [
             0.6,
             "#e6f5d0"
            ],
            [
             0.7,
             "#b8e186"
            ],
            [
             0.8,
             "#7fbc41"
            ],
            [
             0.9,
             "#4d9221"
            ],
            [
             1,
             "#276419"
            ]
           ],
           "sequential": [
            [
             0,
             "#0d0887"
            ],
            [
             0.1111111111111111,
             "#46039f"
            ],
            [
             0.2222222222222222,
             "#7201a8"
            ],
            [
             0.3333333333333333,
             "#9c179e"
            ],
            [
             0.4444444444444444,
             "#bd3786"
            ],
            [
             0.5555555555555556,
             "#d8576b"
            ],
            [
             0.6666666666666666,
             "#ed7953"
            ],
            [
             0.7777777777777778,
             "#fb9f3a"
            ],
            [
             0.8888888888888888,
             "#fdca26"
            ],
            [
             1,
             "#f0f921"
            ]
           ],
           "sequentialminus": [
            [
             0,
             "#0d0887"
            ],
            [
             0.1111111111111111,
             "#46039f"
            ],
            [
             0.2222222222222222,
             "#7201a8"
            ],
            [
             0.3333333333333333,
             "#9c179e"
            ],
            [
             0.4444444444444444,
             "#bd3786"
            ],
            [
             0.5555555555555556,
             "#d8576b"
            ],
            [
             0.6666666666666666,
             "#ed7953"
            ],
            [
             0.7777777777777778,
             "#fb9f3a"
            ],
            [
             0.8888888888888888,
             "#fdca26"
            ],
            [
             1,
             "#f0f921"
            ]
           ]
          },
          "colorway": [
           "#636efa",
           "#EF553B",
           "#00cc96",
           "#ab63fa",
           "#FFA15A",
           "#19d3f3",
           "#FF6692",
           "#B6E880",
           "#FF97FF",
           "#FECB52"
          ],
          "font": {
           "color": "#2a3f5f"
          },
          "geo": {
           "bgcolor": "white",
           "lakecolor": "white",
           "landcolor": "#E5ECF6",
           "showlakes": true,
           "showland": true,
           "subunitcolor": "white"
          },
          "hoverlabel": {
           "align": "left"
          },
          "hovermode": "closest",
          "mapbox": {
           "style": "light"
          },
          "paper_bgcolor": "white",
          "plot_bgcolor": "#E5ECF6",
          "polar": {
           "angularaxis": {
            "gridcolor": "white",
            "linecolor": "white",
            "ticks": ""
           },
           "bgcolor": "#E5ECF6",
           "radialaxis": {
            "gridcolor": "white",
            "linecolor": "white",
            "ticks": ""
           }
          },
          "scene": {
           "xaxis": {
            "backgroundcolor": "#E5ECF6",
            "gridcolor": "white",
            "gridwidth": 2,
            "linecolor": "white",
            "showbackground": true,
            "ticks": "",
            "zerolinecolor": "white"
           },
           "yaxis": {
            "backgroundcolor": "#E5ECF6",
            "gridcolor": "white",
            "gridwidth": 2,
            "linecolor": "white",
            "showbackground": true,
            "ticks": "",
            "zerolinecolor": "white"
           },
           "zaxis": {
            "backgroundcolor": "#E5ECF6",
            "gridcolor": "white",
            "gridwidth": 2,
            "linecolor": "white",
            "showbackground": true,
            "ticks": "",
            "zerolinecolor": "white"
           }
          },
          "shapedefaults": {
           "line": {
            "color": "#2a3f5f"
           }
          },
          "ternary": {
           "aaxis": {
            "gridcolor": "white",
            "linecolor": "white",
            "ticks": ""
           },
           "baxis": {
            "gridcolor": "white",
            "linecolor": "white",
            "ticks": ""
           },
           "bgcolor": "#E5ECF6",
           "caxis": {
            "gridcolor": "white",
            "linecolor": "white",
            "ticks": ""
           }
          },
          "title": {
           "x": 0.05
          },
          "xaxis": {
           "automargin": true,
           "gridcolor": "white",
           "linecolor": "white",
           "ticks": "",
           "title": {
            "standoff": 15
           },
           "zerolinecolor": "white",
           "zerolinewidth": 2
          },
          "yaxis": {
           "automargin": true,
           "gridcolor": "white",
           "linecolor": "white",
           "ticks": "",
           "title": {
            "standoff": 15
           },
           "zerolinecolor": "white",
           "zerolinewidth": 2
          }
         }
        },
        "title": {
         "text": "Session Timelines"
        },
        "xaxis": {
         "rangeselector": {
          "buttons": [
           {
            "count": 7,
            "label": "1w",
            "step": "day",
            "stepmode": "backward"
           },
           {
            "count": 1,
            "label": "1m",
            "step": "month",
            "stepmode": "backward"
           },
           {
            "count": 6,
            "label": "6m",
            "step": "month",
            "stepmode": "backward"
           },
           {
            "count": 1,
            "label": "YTD",
            "step": "year",
            "stepmode": "todate"
           },
           {
            "count": 1,
            "label": "1y",
            "step": "year",
            "stepmode": "backward"
           },
           {
            "step": "all"
           }
          ]
         },
         "showgrid": false,
         "title": {
          "text": "Time"
         },
         "type": "date",
         "zeroline": false
        },
        "yaxis": {
         "autorange": false,
         "range": [
          -1,
          4
         ],
         "showgrid": false,
         "ticktext": [
          "Session 2",
          "Session 1",
          "Session 0"
         ],
         "tickvals": [
          0,
          1,
          2
         ],
         "title": {
          "text": "Sessions"
         },
         "zeroline": false
        }
       }
      }
     },
     "metadata": {},
     "output_type": "display_data"
    },
    {
     "data": {
      "application/vnd.plotly.v1+json": {
       "config": {
        "plotlyServerURL": "https://plot.ly"
       },
       "data": [
        {
         "delta": {
          "increasing": {
           "color": "green"
          },
          "reference": 1.82097715
         },
         "mode": "number+delta",
         "title": {
          "text": "Average Session Duration (min)"
         },
         "type": "indicator",
         "value": 3.8871088499999993
        }
       ],
       "layout": {
        "template": {
         "data": {
          "bar": [
           {
            "error_x": {
             "color": "#2a3f5f"
            },
            "error_y": {
             "color": "#2a3f5f"
            },
            "marker": {
             "line": {
              "color": "#E5ECF6",
              "width": 0.5
             },
             "pattern": {
              "fillmode": "overlay",
              "size": 10,
              "solidity": 0.2
             }
            },
            "type": "bar"
           }
          ],
          "barpolar": [
           {
            "marker": {
             "line": {
              "color": "#E5ECF6",
              "width": 0.5
             },
             "pattern": {
              "fillmode": "overlay",
              "size": 10,
              "solidity": 0.2
             }
            },
            "type": "barpolar"
           }
          ],
          "carpet": [
           {
            "aaxis": {
             "endlinecolor": "#2a3f5f",
             "gridcolor": "white",
             "linecolor": "white",
             "minorgridcolor": "white",
             "startlinecolor": "#2a3f5f"
            },
            "baxis": {
             "endlinecolor": "#2a3f5f",
             "gridcolor": "white",
             "linecolor": "white",
             "minorgridcolor": "white",
             "startlinecolor": "#2a3f5f"
            },
            "type": "carpet"
           }
          ],
          "choropleth": [
           {
            "colorbar": {
             "outlinewidth": 0,
             "ticks": ""
            },
            "type": "choropleth"
           }
          ],
          "contour": [
           {
            "colorbar": {
             "outlinewidth": 0,
             "ticks": ""
            },
            "colorscale": [
             [
              0,
              "#0d0887"
             ],
             [
              0.1111111111111111,
              "#46039f"
             ],
             [
              0.2222222222222222,
              "#7201a8"
             ],
             [
              0.3333333333333333,
              "#9c179e"
             ],
             [
              0.4444444444444444,
              "#bd3786"
             ],
             [
              0.5555555555555556,
              "#d8576b"
             ],
             [
              0.6666666666666666,
              "#ed7953"
             ],
             [
              0.7777777777777778,
              "#fb9f3a"
             ],
             [
              0.8888888888888888,
              "#fdca26"
             ],
             [
              1,
              "#f0f921"
             ]
            ],
            "type": "contour"
           }
          ],
          "contourcarpet": [
           {
            "colorbar": {
             "outlinewidth": 0,
             "ticks": ""
            },
            "type": "contourcarpet"
           }
          ],
          "heatmap": [
           {
            "colorbar": {
             "outlinewidth": 0,
             "ticks": ""
            },
            "colorscale": [
             [
              0,
              "#0d0887"
             ],
             [
              0.1111111111111111,
              "#46039f"
             ],
             [
              0.2222222222222222,
              "#7201a8"
             ],
             [
              0.3333333333333333,
              "#9c179e"
             ],
             [
              0.4444444444444444,
              "#bd3786"
             ],
             [
              0.5555555555555556,
              "#d8576b"
             ],
             [
              0.6666666666666666,
              "#ed7953"
             ],
             [
              0.7777777777777778,
              "#fb9f3a"
             ],
             [
              0.8888888888888888,
              "#fdca26"
             ],
             [
              1,
              "#f0f921"
             ]
            ],
            "type": "heatmap"
           }
          ],
          "histogram": [
           {
            "marker": {
             "pattern": {
              "fillmode": "overlay",
              "size": 10,
              "solidity": 0.2
             }
            },
            "type": "histogram"
           }
          ],
          "histogram2d": [
           {
            "colorbar": {
             "outlinewidth": 0,
             "ticks": ""
            },
            "colorscale": [
             [
              0,
              "#0d0887"
             ],
             [
              0.1111111111111111,
              "#46039f"
             ],
             [
              0.2222222222222222,
              "#7201a8"
             ],
             [
              0.3333333333333333,
              "#9c179e"
             ],
             [
              0.4444444444444444,
              "#bd3786"
             ],
             [
              0.5555555555555556,
              "#d8576b"
             ],
             [
              0.6666666666666666,
              "#ed7953"
             ],
             [
              0.7777777777777778,
              "#fb9f3a"
             ],
             [
              0.8888888888888888,
              "#fdca26"
             ],
             [
              1,
              "#f0f921"
             ]
            ],
            "type": "histogram2d"
           }
          ],
          "histogram2dcontour": [
           {
            "colorbar": {
             "outlinewidth": 0,
             "ticks": ""
            },
            "colorscale": [
             [
              0,
              "#0d0887"
             ],
             [
              0.1111111111111111,
              "#46039f"
             ],
             [
              0.2222222222222222,
              "#7201a8"
             ],
             [
              0.3333333333333333,
              "#9c179e"
             ],
             [
              0.4444444444444444,
              "#bd3786"
             ],
             [
              0.5555555555555556,
              "#d8576b"
             ],
             [
              0.6666666666666666,
              "#ed7953"
             ],
             [
              0.7777777777777778,
              "#fb9f3a"
             ],
             [
              0.8888888888888888,
              "#fdca26"
             ],
             [
              1,
              "#f0f921"
             ]
            ],
            "type": "histogram2dcontour"
           }
          ],
          "mesh3d": [
           {
            "colorbar": {
             "outlinewidth": 0,
             "ticks": ""
            },
            "type": "mesh3d"
           }
          ],
          "parcoords": [
           {
            "line": {
             "colorbar": {
              "outlinewidth": 0,
              "ticks": ""
             }
            },
            "type": "parcoords"
           }
          ],
          "pie": [
           {
            "automargin": true,
            "type": "pie"
           }
          ],
          "scatter": [
           {
            "fillpattern": {
             "fillmode": "overlay",
             "size": 10,
             "solidity": 0.2
            },
            "type": "scatter"
           }
          ],
          "scatter3d": [
           {
            "line": {
             "colorbar": {
              "outlinewidth": 0,
              "ticks": ""
             }
            },
            "marker": {
             "colorbar": {
              "outlinewidth": 0,
              "ticks": ""
             }
            },
            "type": "scatter3d"
           }
          ],
          "scattercarpet": [
           {
            "marker": {
             "colorbar": {
              "outlinewidth": 0,
              "ticks": ""
             }
            },
            "type": "scattercarpet"
           }
          ],
          "scattergeo": [
           {
            "marker": {
             "colorbar": {
              "outlinewidth": 0,
              "ticks": ""
             }
            },
            "type": "scattergeo"
           }
          ],
          "scattergl": [
           {
            "marker": {
             "colorbar": {
              "outlinewidth": 0,
              "ticks": ""
             }
            },
            "type": "scattergl"
           }
          ],
          "scattermap": [
           {
            "marker": {
             "colorbar": {
              "outlinewidth": 0,
              "ticks": ""
             }
            },
            "type": "scattermap"
           }
          ],
          "scattermapbox": [
           {
            "marker": {
             "colorbar": {
              "outlinewidth": 0,
              "ticks": ""
             }
            },
            "type": "scattermapbox"
           }
          ],
          "scatterpolar": [
           {
            "marker": {
             "colorbar": {
              "outlinewidth": 0,
              "ticks": ""
             }
            },
            "type": "scatterpolar"
           }
          ],
          "scatterpolargl": [
           {
            "marker": {
             "colorbar": {
              "outlinewidth": 0,
              "ticks": ""
             }
            },
            "type": "scatterpolargl"
           }
          ],
          "scatterternary": [
           {
            "marker": {
             "colorbar": {
              "outlinewidth": 0,
              "ticks": ""
             }
            },
            "type": "scatterternary"
           }
          ],
          "surface": [
           {
            "colorbar": {
             "outlinewidth": 0,
             "ticks": ""
            },
            "colorscale": [
             [
              0,
              "#0d0887"
             ],
             [
              0.1111111111111111,
              "#46039f"
             ],
             [
              0.2222222222222222,
              "#7201a8"
             ],
             [
              0.3333333333333333,
              "#9c179e"
             ],
             [
              0.4444444444444444,
              "#bd3786"
             ],
             [
              0.5555555555555556,
              "#d8576b"
             ],
             [
              0.6666666666666666,
              "#ed7953"
             ],
             [
              0.7777777777777778,
              "#fb9f3a"
             ],
             [
              0.8888888888888888,
              "#fdca26"
             ],
             [
              1,
              "#f0f921"
             ]
            ],
            "type": "surface"
           }
          ],
          "table": [
           {
            "cells": {
             "fill": {
              "color": "#EBF0F8"
             },
             "line": {
              "color": "white"
             }
            },
            "header": {
             "fill": {
              "color": "#C8D4E3"
             },
             "line": {
              "color": "white"
             }
            },
            "type": "table"
           }
          ]
         },
         "layout": {
          "annotationdefaults": {
           "arrowcolor": "#2a3f5f",
           "arrowhead": 0,
           "arrowwidth": 1
          },
          "autotypenumbers": "strict",
          "coloraxis": {
           "colorbar": {
            "outlinewidth": 0,
            "ticks": ""
           }
          },
          "colorscale": {
           "diverging": [
            [
             0,
             "#8e0152"
            ],
            [
             0.1,
             "#c51b7d"
            ],
            [
             0.2,
             "#de77ae"
            ],
            [
             0.3,
             "#f1b6da"
            ],
            [
             0.4,
             "#fde0ef"
            ],
            [
             0.5,
             "#f7f7f7"
            ],
            [
             0.6,
             "#e6f5d0"
            ],
            [
             0.7,
             "#b8e186"
            ],
            [
             0.8,
             "#7fbc41"
            ],
            [
             0.9,
             "#4d9221"
            ],
            [
             1,
             "#276419"
            ]
           ],
           "sequential": [
            [
             0,
             "#0d0887"
            ],
            [
             0.1111111111111111,
             "#46039f"
            ],
            [
             0.2222222222222222,
             "#7201a8"
            ],
            [
             0.3333333333333333,
             "#9c179e"
            ],
            [
             0.4444444444444444,
             "#bd3786"
            ],
            [
             0.5555555555555556,
             "#d8576b"
            ],
            [
             0.6666666666666666,
             "#ed7953"
            ],
            [
             0.7777777777777778,
             "#fb9f3a"
            ],
            [
             0.8888888888888888,
             "#fdca26"
            ],
            [
             1,
             "#f0f921"
            ]
           ],
           "sequentialminus": [
            [
             0,
             "#0d0887"
            ],
            [
             0.1111111111111111,
             "#46039f"
            ],
            [
             0.2222222222222222,
             "#7201a8"
            ],
            [
             0.3333333333333333,
             "#9c179e"
            ],
            [
             0.4444444444444444,
             "#bd3786"
            ],
            [
             0.5555555555555556,
             "#d8576b"
            ],
            [
             0.6666666666666666,
             "#ed7953"
            ],
            [
             0.7777777777777778,
             "#fb9f3a"
            ],
            [
             0.8888888888888888,
             "#fdca26"
            ],
            [
             1,
             "#f0f921"
            ]
           ]
          },
          "colorway": [
           "#636efa",
           "#EF553B",
           "#00cc96",
           "#ab63fa",
           "#FFA15A",
           "#19d3f3",
           "#FF6692",
           "#B6E880",
           "#FF97FF",
           "#FECB52"
          ],
          "font": {
           "color": "#2a3f5f"
          },
          "geo": {
           "bgcolor": "white",
           "lakecolor": "white",
           "landcolor": "#E5ECF6",
           "showlakes": true,
           "showland": true,
           "subunitcolor": "white"
          },
          "hoverlabel": {
           "align": "left"
          },
          "hovermode": "closest",
          "mapbox": {
           "style": "light"
          },
          "paper_bgcolor": "white",
          "plot_bgcolor": "#E5ECF6",
          "polar": {
           "angularaxis": {
            "gridcolor": "white",
            "linecolor": "white",
            "ticks": ""
           },
           "bgcolor": "#E5ECF6",
           "radialaxis": {
            "gridcolor": "white",
            "linecolor": "white",
            "ticks": ""
           }
          },
          "scene": {
           "xaxis": {
            "backgroundcolor": "#E5ECF6",
            "gridcolor": "white",
            "gridwidth": 2,
            "linecolor": "white",
            "showbackground": true,
            "ticks": "",
            "zerolinecolor": "white"
           },
           "yaxis": {
            "backgroundcolor": "#E5ECF6",
            "gridcolor": "white",
            "gridwidth": 2,
            "linecolor": "white",
            "showbackground": true,
            "ticks": "",
            "zerolinecolor": "white"
           },
           "zaxis": {
            "backgroundcolor": "#E5ECF6",
            "gridcolor": "white",
            "gridwidth": 2,
            "linecolor": "white",
            "showbackground": true,
            "ticks": "",
            "zerolinecolor": "white"
           }
          },
          "shapedefaults": {
           "line": {
            "color": "#2a3f5f"
           }
          },
          "ternary": {
           "aaxis": {
            "gridcolor": "white",
            "linecolor": "white",
            "ticks": ""
           },
           "baxis": {
            "gridcolor": "white",
            "linecolor": "white",
            "ticks": ""
           },
           "bgcolor": "#E5ECF6",
           "caxis": {
            "gridcolor": "white",
            "linecolor": "white",
            "ticks": ""
           }
          },
          "title": {
           "x": 0.05
          },
          "xaxis": {
           "automargin": true,
           "gridcolor": "white",
           "linecolor": "white",
           "ticks": "",
           "title": {
            "standoff": 15
           },
           "zerolinecolor": "white",
           "zerolinewidth": 2
          },
          "yaxis": {
           "automargin": true,
           "gridcolor": "white",
           "linecolor": "white",
           "ticks": "",
           "title": {
            "standoff": 15
           },
           "zerolinecolor": "white",
           "zerolinewidth": 2
          }
         }
        }
       }
      }
     },
     "metadata": {},
     "output_type": "display_data"
    },
    {
     "data": {
      "application/vnd.plotly.v1+json": {
       "config": {
        "plotlyServerURL": "https://plot.ly"
       },
       "data": [
        {
         "hovertemplate": "emotion=%{x}<br>count=%{text}<extra></extra>",
         "legendgroup": "neutral",
         "marker": {
          "color": "#636efa",
          "pattern": {
           "shape": ""
          }
         },
         "name": "neutral",
         "orientation": "v",
         "showlegend": true,
         "text": {
          "bdata": "AAAAAAAAKEA=",
          "dtype": "f8"
         },
         "textposition": "auto",
         "type": "bar",
         "x": [
          "neutral"
         ],
         "xaxis": "x",
         "y": {
          "bdata": "DA==",
          "dtype": "i1"
         },
         "yaxis": "y"
        },
        {
         "hovertemplate": "emotion=%{x}<br>count=%{text}<extra></extra>",
         "legendgroup": "disappointment",
         "marker": {
          "color": "#EF553B",
          "pattern": {
           "shape": ""
          }
         },
         "name": "disappointment",
         "orientation": "v",
         "showlegend": true,
         "text": {
          "bdata": "AAAAAAAAJkA=",
          "dtype": "f8"
         },
         "textposition": "auto",
         "type": "bar",
         "x": [
          "disappointment"
         ],
         "xaxis": "x",
         "y": {
          "bdata": "Cw==",
          "dtype": "i1"
         },
         "yaxis": "y"
        },
        {
         "hovertemplate": "emotion=%{x}<br>count=%{text}<extra></extra>",
         "legendgroup": "sadness",
         "marker": {
          "color": "#00cc96",
          "pattern": {
           "shape": ""
          }
         },
         "name": "sadness",
         "orientation": "v",
         "showlegend": true,
         "text": {
          "bdata": "AAAAAAAAIEA=",
          "dtype": "f8"
         },
         "textposition": "auto",
         "type": "bar",
         "x": [
          "sadness"
         ],
         "xaxis": "x",
         "y": {
          "bdata": "CA==",
          "dtype": "i1"
         },
         "yaxis": "y"
        },
        {
         "hovertemplate": "emotion=%{x}<br>count=%{text}<extra></extra>",
         "legendgroup": "approval",
         "marker": {
          "color": "#ab63fa",
          "pattern": {
           "shape": ""
          }
         },
         "name": "approval",
         "orientation": "v",
         "showlegend": true,
         "text": {
          "bdata": "AAAAAAAAHEA=",
          "dtype": "f8"
         },
         "textposition": "auto",
         "type": "bar",
         "x": [
          "approval"
         ],
         "xaxis": "x",
         "y": {
          "bdata": "Bw==",
          "dtype": "i1"
         },
         "yaxis": "y"
        },
        {
         "hovertemplate": "emotion=%{x}<br>count=%{text}<extra></extra>",
         "legendgroup": "annoyance",
         "marker": {
          "color": "#FFA15A",
          "pattern": {
           "shape": ""
          }
         },
         "name": "annoyance",
         "orientation": "v",
         "showlegend": true,
         "text": {
          "bdata": "AAAAAAAAHEA=",
          "dtype": "f8"
         },
         "textposition": "auto",
         "type": "bar",
         "x": [
          "annoyance"
         ],
         "xaxis": "x",
         "y": {
          "bdata": "Bw==",
          "dtype": "i1"
         },
         "yaxis": "y"
        },
        {
         "hovertemplate": "emotion=%{x}<br>count=%{text}<extra></extra>",
         "legendgroup": "realization",
         "marker": {
          "color": "#19d3f3",
          "pattern": {
           "shape": ""
          }
         },
         "name": "realization",
         "orientation": "v",
         "showlegend": true,
         "text": {
          "bdata": "AAAAAAAAFEA=",
          "dtype": "f8"
         },
         "textposition": "auto",
         "type": "bar",
         "x": [
          "realization"
         ],
         "xaxis": "x",
         "y": {
          "bdata": "BQ==",
          "dtype": "i1"
         },
         "yaxis": "y"
        },
        {
         "hovertemplate": "emotion=%{x}<br>count=%{text}<extra></extra>",
         "legendgroup": "disapproval",
         "marker": {
          "color": "#FF6692",
          "pattern": {
           "shape": ""
          }
         },
         "name": "disapproval",
         "orientation": "v",
         "showlegend": true,
         "text": {
          "bdata": "AAAAAAAAFEA=",
          "dtype": "f8"
         },
         "textposition": "auto",
         "type": "bar",
         "x": [
          "disapproval"
         ],
         "xaxis": "x",
         "y": {
          "bdata": "BQ==",
          "dtype": "i1"
         },
         "yaxis": "y"
        },
        {
         "hovertemplate": "emotion=%{x}<br>count=%{text}<extra></extra>",
         "legendgroup": "nervousness",
         "marker": {
          "color": "#B6E880",
          "pattern": {
           "shape": ""
          }
         },
         "name": "nervousness",
         "orientation": "v",
         "showlegend": true,
         "text": {
          "bdata": "AAAAAAAAFEA=",
          "dtype": "f8"
         },
         "textposition": "auto",
         "type": "bar",
         "x": [
          "nervousness"
         ],
         "xaxis": "x",
         "y": {
          "bdata": "BQ==",
          "dtype": "i1"
         },
         "yaxis": "y"
        },
        {
         "hovertemplate": "emotion=%{x}<br>count=%{text}<extra></extra>",
         "legendgroup": "joy",
         "marker": {
          "color": "#FF97FF",
          "pattern": {
           "shape": ""
          }
         },
         "name": "joy",
         "orientation": "v",
         "showlegend": true,
         "text": {
          "bdata": "AAAAAAAAEEA=",
          "dtype": "f8"
         },
         "textposition": "auto",
         "type": "bar",
         "x": [
          "joy"
         ],
         "xaxis": "x",
         "y": {
          "bdata": "BA==",
          "dtype": "i1"
         },
         "yaxis": "y"
        },
        {
         "hovertemplate": "emotion=%{x}<br>count=%{text}<extra></extra>",
         "legendgroup": "fear",
         "marker": {
          "color": "#FECB52",
          "pattern": {
           "shape": ""
          }
         },
         "name": "fear",
         "orientation": "v",
         "showlegend": true,
         "text": {
          "bdata": "AAAAAAAAEEA=",
          "dtype": "f8"
         },
         "textposition": "auto",
         "type": "bar",
         "x": [
          "fear"
         ],
         "xaxis": "x",
         "y": {
          "bdata": "BA==",
          "dtype": "i1"
         },
         "yaxis": "y"
        }
       ],
       "layout": {
        "barmode": "relative",
        "legend": {
         "title": {
          "text": "emotion"
         },
         "tracegroupgap": 0
        },
        "template": {
         "data": {
          "bar": [
           {
            "error_x": {
             "color": "#2a3f5f"
            },
            "error_y": {
             "color": "#2a3f5f"
            },
            "marker": {
             "line": {
              "color": "#E5ECF6",
              "width": 0.5
             },
             "pattern": {
              "fillmode": "overlay",
              "size": 10,
              "solidity": 0.2
             }
            },
            "type": "bar"
           }
          ],
          "barpolar": [
           {
            "marker": {
             "line": {
              "color": "#E5ECF6",
              "width": 0.5
             },
             "pattern": {
              "fillmode": "overlay",
              "size": 10,
              "solidity": 0.2
             }
            },
            "type": "barpolar"
           }
          ],
          "carpet": [
           {
            "aaxis": {
             "endlinecolor": "#2a3f5f",
             "gridcolor": "white",
             "linecolor": "white",
             "minorgridcolor": "white",
             "startlinecolor": "#2a3f5f"
            },
            "baxis": {
             "endlinecolor": "#2a3f5f",
             "gridcolor": "white",
             "linecolor": "white",
             "minorgridcolor": "white",
             "startlinecolor": "#2a3f5f"
            },
            "type": "carpet"
           }
          ],
          "choropleth": [
           {
            "colorbar": {
             "outlinewidth": 0,
             "ticks": ""
            },
            "type": "choropleth"
           }
          ],
          "contour": [
           {
            "colorbar": {
             "outlinewidth": 0,
             "ticks": ""
            },
            "colorscale": [
             [
              0,
              "#0d0887"
             ],
             [
              0.1111111111111111,
              "#46039f"
             ],
             [
              0.2222222222222222,
              "#7201a8"
             ],
             [
              0.3333333333333333,
              "#9c179e"
             ],
             [
              0.4444444444444444,
              "#bd3786"
             ],
             [
              0.5555555555555556,
              "#d8576b"
             ],
             [
              0.6666666666666666,
              "#ed7953"
             ],
             [
              0.7777777777777778,
              "#fb9f3a"
             ],
             [
              0.8888888888888888,
              "#fdca26"
             ],
             [
              1,
              "#f0f921"
             ]
            ],
            "type": "contour"
           }
          ],
          "contourcarpet": [
           {
            "colorbar": {
             "outlinewidth": 0,
             "ticks": ""
            },
            "type": "contourcarpet"
           }
          ],
          "heatmap": [
           {
            "colorbar": {
             "outlinewidth": 0,
             "ticks": ""
            },
            "colorscale": [
             [
              0,
              "#0d0887"
             ],
             [
              0.1111111111111111,
              "#46039f"
             ],
             [
              0.2222222222222222,
              "#7201a8"
             ],
             [
              0.3333333333333333,
              "#9c179e"
             ],
             [
              0.4444444444444444,
              "#bd3786"
             ],
             [
              0.5555555555555556,
              "#d8576b"
             ],
             [
              0.6666666666666666,
              "#ed7953"
             ],
             [
              0.7777777777777778,
              "#fb9f3a"
             ],
             [
              0.8888888888888888,
              "#fdca26"
             ],
             [
              1,
              "#f0f921"
             ]
            ],
            "type": "heatmap"
           }
          ],
          "histogram": [
           {
            "marker": {
             "pattern": {
              "fillmode": "overlay",
              "size": 10,
              "solidity": 0.2
             }
            },
            "type": "histogram"
           }
          ],
          "histogram2d": [
           {
            "colorbar": {
             "outlinewidth": 0,
             "ticks": ""
            },
            "colorscale": [
             [
              0,
              "#0d0887"
             ],
             [
              0.1111111111111111,
              "#46039f"
             ],
             [
              0.2222222222222222,
              "#7201a8"
             ],
             [
              0.3333333333333333,
              "#9c179e"
             ],
             [
              0.4444444444444444,
              "#bd3786"
             ],
             [
              0.5555555555555556,
              "#d8576b"
             ],
             [
              0.6666666666666666,
              "#ed7953"
             ],
             [
              0.7777777777777778,
              "#fb9f3a"
             ],
             [
              0.8888888888888888,
              "#fdca26"
             ],
             [
              1,
              "#f0f921"
             ]
            ],
            "type": "histogram2d"
           }
          ],
          "histogram2dcontour": [
           {
            "colorbar": {
             "outlinewidth": 0,
             "ticks": ""
            },
            "colorscale": [
             [
              0,
              "#0d0887"
             ],
             [
              0.1111111111111111,
              "#46039f"
             ],
             [
              0.2222222222222222,
              "#7201a8"
             ],
             [
              0.3333333333333333,
              "#9c179e"
             ],
             [
              0.4444444444444444,
              "#bd3786"
             ],
             [
              0.5555555555555556,
              "#d8576b"
             ],
             [
              0.6666666666666666,
              "#ed7953"
             ],
             [
              0.7777777777777778,
              "#fb9f3a"
             ],
             [
              0.8888888888888888,
              "#fdca26"
             ],
             [
              1,
              "#f0f921"
             ]
            ],
            "type": "histogram2dcontour"
           }
          ],
          "mesh3d": [
           {
            "colorbar": {
             "outlinewidth": 0,
             "ticks": ""
            },
            "type": "mesh3d"
           }
          ],
          "parcoords": [
           {
            "line": {
             "colorbar": {
              "outlinewidth": 0,
              "ticks": ""
             }
            },
            "type": "parcoords"
           }
          ],
          "pie": [
           {
            "automargin": true,
            "type": "pie"
           }
          ],
          "scatter": [
           {
            "fillpattern": {
             "fillmode": "overlay",
             "size": 10,
             "solidity": 0.2
            },
            "type": "scatter"
           }
          ],
          "scatter3d": [
           {
            "line": {
             "colorbar": {
              "outlinewidth": 0,
              "ticks": ""
             }
            },
            "marker": {
             "colorbar": {
              "outlinewidth": 0,
              "ticks": ""
             }
            },
            "type": "scatter3d"
           }
          ],
          "scattercarpet": [
           {
            "marker": {
             "colorbar": {
              "outlinewidth": 0,
              "ticks": ""
             }
            },
            "type": "scattercarpet"
           }
          ],
          "scattergeo": [
           {
            "marker": {
             "colorbar": {
              "outlinewidth": 0,
              "ticks": ""
             }
            },
            "type": "scattergeo"
           }
          ],
          "scattergl": [
           {
            "marker": {
             "colorbar": {
              "outlinewidth": 0,
              "ticks": ""
             }
            },
            "type": "scattergl"
           }
          ],
          "scattermap": [
           {
            "marker": {
             "colorbar": {
              "outlinewidth": 0,
              "ticks": ""
             }
            },
            "type": "scattermap"
           }
          ],
          "scattermapbox": [
           {
            "marker": {
             "colorbar": {
              "outlinewidth": 0,
              "ticks": ""
             }
            },
            "type": "scattermapbox"
           }
          ],
          "scatterpolar": [
           {
            "marker": {
             "colorbar": {
              "outlinewidth": 0,
              "ticks": ""
             }
            },
            "type": "scatterpolar"
           }
          ],
          "scatterpolargl": [
           {
            "marker": {
             "colorbar": {
              "outlinewidth": 0,
              "ticks": ""
             }
            },
            "type": "scatterpolargl"
           }
          ],
          "scatterternary": [
           {
            "marker": {
             "colorbar": {
              "outlinewidth": 0,
              "ticks": ""
             }
            },
            "type": "scatterternary"
           }
          ],
          "surface": [
           {
            "colorbar": {
             "outlinewidth": 0,
             "ticks": ""
            },
            "colorscale": [
             [
              0,
              "#0d0887"
             ],
             [
              0.1111111111111111,
              "#46039f"
             ],
             [
              0.2222222222222222,
              "#7201a8"
             ],
             [
              0.3333333333333333,
              "#9c179e"
             ],
             [
              0.4444444444444444,
              "#bd3786"
             ],
             [
              0.5555555555555556,
              "#d8576b"
             ],
             [
              0.6666666666666666,
              "#ed7953"
             ],
             [
              0.7777777777777778,
              "#fb9f3a"
             ],
             [
              0.8888888888888888,
              "#fdca26"
             ],
             [
              1,
              "#f0f921"
             ]
            ],
            "type": "surface"
           }
          ],
          "table": [
           {
            "cells": {
             "fill": {
              "color": "#EBF0F8"
             },
             "line": {
              "color": "white"
             }
            },
            "header": {
             "fill": {
              "color": "#C8D4E3"
             },
             "line": {
              "color": "white"
             }
            },
            "type": "table"
           }
          ]
         },
         "layout": {
          "annotationdefaults": {
           "arrowcolor": "#2a3f5f",
           "arrowhead": 0,
           "arrowwidth": 1
          },
          "autotypenumbers": "strict",
          "coloraxis": {
           "colorbar": {
            "outlinewidth": 0,
            "ticks": ""
           }
          },
          "colorscale": {
           "diverging": [
            [
             0,
             "#8e0152"
            ],
            [
             0.1,
             "#c51b7d"
            ],
            [
             0.2,
             "#de77ae"
            ],
            [
             0.3,
             "#f1b6da"
            ],
            [
             0.4,
             "#fde0ef"
            ],
            [
             0.5,
             "#f7f7f7"
            ],
            [
             0.6,
             "#e6f5d0"
            ],
            [
             0.7,
             "#b8e186"
            ],
            [
             0.8,
             "#7fbc41"
            ],
            [
             0.9,
             "#4d9221"
            ],
            [
             1,
             "#276419"
            ]
           ],
           "sequential": [
            [
             0,
             "#0d0887"
            ],
            [
             0.1111111111111111,
             "#46039f"
            ],
            [
             0.2222222222222222,
             "#7201a8"
            ],
            [
             0.3333333333333333,
             "#9c179e"
            ],
            [
             0.4444444444444444,
             "#bd3786"
            ],
            [
             0.5555555555555556,
             "#d8576b"
            ],
            [
             0.6666666666666666,
             "#ed7953"
            ],
            [
             0.7777777777777778,
             "#fb9f3a"
            ],
            [
             0.8888888888888888,
             "#fdca26"
            ],
            [
             1,
             "#f0f921"
            ]
           ],
           "sequentialminus": [
            [
             0,
             "#0d0887"
            ],
            [
             0.1111111111111111,
             "#46039f"
            ],
            [
             0.2222222222222222,
             "#7201a8"
            ],
            [
             0.3333333333333333,
             "#9c179e"
            ],
            [
             0.4444444444444444,
             "#bd3786"
            ],
            [
             0.5555555555555556,
             "#d8576b"
            ],
            [
             0.6666666666666666,
             "#ed7953"
            ],
            [
             0.7777777777777778,
             "#fb9f3a"
            ],
            [
             0.8888888888888888,
             "#fdca26"
            ],
            [
             1,
             "#f0f921"
            ]
           ]
          },
          "colorway": [
           "#636efa",
           "#EF553B",
           "#00cc96",
           "#ab63fa",
           "#FFA15A",
           "#19d3f3",
           "#FF6692",
           "#B6E880",
           "#FF97FF",
           "#FECB52"
          ],
          "font": {
           "color": "#2a3f5f"
          },
          "geo": {
           "bgcolor": "white",
           "lakecolor": "white",
           "landcolor": "#E5ECF6",
           "showlakes": true,
           "showland": true,
           "subunitcolor": "white"
          },
          "hoverlabel": {
           "align": "left"
          },
          "hovermode": "closest",
          "mapbox": {
           "style": "light"
          },
          "paper_bgcolor": "white",
          "plot_bgcolor": "#E5ECF6",
          "polar": {
           "angularaxis": {
            "gridcolor": "white",
            "linecolor": "white",
            "ticks": ""
           },
           "bgcolor": "#E5ECF6",
           "radialaxis": {
            "gridcolor": "white",
            "linecolor": "white",
            "ticks": ""
           }
          },
          "scene": {
           "xaxis": {
            "backgroundcolor": "#E5ECF6",
            "gridcolor": "white",
            "gridwidth": 2,
            "linecolor": "white",
            "showbackground": true,
            "ticks": "",
            "zerolinecolor": "white"
           },
           "yaxis": {
            "backgroundcolor": "#E5ECF6",
            "gridcolor": "white",
            "gridwidth": 2,
            "linecolor": "white",
            "showbackground": true,
            "ticks": "",
            "zerolinecolor": "white"
           },
           "zaxis": {
            "backgroundcolor": "#E5ECF6",
            "gridcolor": "white",
            "gridwidth": 2,
            "linecolor": "white",
            "showbackground": true,
            "ticks": "",
            "zerolinecolor": "white"
           }
          },
          "shapedefaults": {
           "line": {
            "color": "#2a3f5f"
           }
          },
          "ternary": {
           "aaxis": {
            "gridcolor": "white",
            "linecolor": "white",
            "ticks": ""
           },
           "baxis": {
            "gridcolor": "white",
            "linecolor": "white",
            "ticks": ""
           },
           "bgcolor": "#E5ECF6",
           "caxis": {
            "gridcolor": "white",
            "linecolor": "white",
            "ticks": ""
           }
          },
          "title": {
           "x": 0.05
          },
          "xaxis": {
           "automargin": true,
           "gridcolor": "white",
           "linecolor": "white",
           "ticks": "",
           "title": {
            "standoff": 15
           },
           "zerolinecolor": "white",
           "zerolinewidth": 2
          },
          "yaxis": {
           "automargin": true,
           "gridcolor": "white",
           "linecolor": "white",
           "ticks": "",
           "title": {
            "standoff": 15
           },
           "zerolinecolor": "white",
           "zerolinewidth": 2
          }
         }
        },
        "title": {
         "text": "Top 10 Emotions Detected"
        },
        "xaxis": {
         "anchor": "y",
         "categoryarray": [
          "neutral",
          "disappointment",
          "sadness",
          "approval",
          "annoyance",
          "realization",
          "disapproval",
          "nervousness",
          "joy",
          "fear"
         ],
         "categoryorder": "array",
         "domain": [
          0,
          1
         ],
         "title": {
          "text": "emotion"
         }
        },
        "yaxis": {
         "anchor": "x",
         "domain": [
          0,
          1
         ],
         "title": {
          "text": "count"
         }
        }
       }
      }
     },
     "metadata": {},
     "output_type": "display_data"
    },
    {
     "data": {
      "application/vnd.plotly.v1+json": {
       "config": {
        "plotlyServerURL": "https://plot.ly"
       },
       "data": [
        {
         "domain": {
          "x": [
           0,
           1
          ],
          "y": [
           0,
           1
          ]
         },
         "hovertemplate": "distress=%{label}<br>count=%{value}<extra></extra>",
         "labels": [
          "Normal",
          "Depression",
          "Anxiety",
          "Bipolar",
          "Suicidal"
         ],
         "legendgroup": "",
         "name": "",
         "showlegend": true,
         "type": "pie",
         "values": {
          "bdata": "DQgEAwI=",
          "dtype": "i1"
         }
        }
       ],
       "layout": {
        "legend": {
         "tracegroupgap": 0
        },
        "template": {
         "data": {
          "bar": [
           {
            "error_x": {
             "color": "#2a3f5f"
            },
            "error_y": {
             "color": "#2a3f5f"
            },
            "marker": {
             "line": {
              "color": "#E5ECF6",
              "width": 0.5
             },
             "pattern": {
              "fillmode": "overlay",
              "size": 10,
              "solidity": 0.2
             }
            },
            "type": "bar"
           }
          ],
          "barpolar": [
           {
            "marker": {
             "line": {
              "color": "#E5ECF6",
              "width": 0.5
             },
             "pattern": {
              "fillmode": "overlay",
              "size": 10,
              "solidity": 0.2
             }
            },
            "type": "barpolar"
           }
          ],
          "carpet": [
           {
            "aaxis": {
             "endlinecolor": "#2a3f5f",
             "gridcolor": "white",
             "linecolor": "white",
             "minorgridcolor": "white",
             "startlinecolor": "#2a3f5f"
            },
            "baxis": {
             "endlinecolor": "#2a3f5f",
             "gridcolor": "white",
             "linecolor": "white",
             "minorgridcolor": "white",
             "startlinecolor": "#2a3f5f"
            },
            "type": "carpet"
           }
          ],
          "choropleth": [
           {
            "colorbar": {
             "outlinewidth": 0,
             "ticks": ""
            },
            "type": "choropleth"
           }
          ],
          "contour": [
           {
            "colorbar": {
             "outlinewidth": 0,
             "ticks": ""
            },
            "colorscale": [
             [
              0,
              "#0d0887"
             ],
             [
              0.1111111111111111,
              "#46039f"
             ],
             [
              0.2222222222222222,
              "#7201a8"
             ],
             [
              0.3333333333333333,
              "#9c179e"
             ],
             [
              0.4444444444444444,
              "#bd3786"
             ],
             [
              0.5555555555555556,
              "#d8576b"
             ],
             [
              0.6666666666666666,
              "#ed7953"
             ],
             [
              0.7777777777777778,
              "#fb9f3a"
             ],
             [
              0.8888888888888888,
              "#fdca26"
             ],
             [
              1,
              "#f0f921"
             ]
            ],
            "type": "contour"
           }
          ],
          "contourcarpet": [
           {
            "colorbar": {
             "outlinewidth": 0,
             "ticks": ""
            },
            "type": "contourcarpet"
           }
          ],
          "heatmap": [
           {
            "colorbar": {
             "outlinewidth": 0,
             "ticks": ""
            },
            "colorscale": [
             [
              0,
              "#0d0887"
             ],
             [
              0.1111111111111111,
              "#46039f"
             ],
             [
              0.2222222222222222,
              "#7201a8"
             ],
             [
              0.3333333333333333,
              "#9c179e"
             ],
             [
              0.4444444444444444,
              "#bd3786"
             ],
             [
              0.5555555555555556,
              "#d8576b"
             ],
             [
              0.6666666666666666,
              "#ed7953"
             ],
             [
              0.7777777777777778,
              "#fb9f3a"
             ],
             [
              0.8888888888888888,
              "#fdca26"
             ],
             [
              1,
              "#f0f921"
             ]
            ],
            "type": "heatmap"
           }
          ],
          "histogram": [
           {
            "marker": {
             "pattern": {
              "fillmode": "overlay",
              "size": 10,
              "solidity": 0.2
             }
            },
            "type": "histogram"
           }
          ],
          "histogram2d": [
           {
            "colorbar": {
             "outlinewidth": 0,
             "ticks": ""
            },
            "colorscale": [
             [
              0,
              "#0d0887"
             ],
             [
              0.1111111111111111,
              "#46039f"
             ],
             [
              0.2222222222222222,
              "#7201a8"
             ],
             [
              0.3333333333333333,
              "#9c179e"
             ],
             [
              0.4444444444444444,
              "#bd3786"
             ],
             [
              0.5555555555555556,
              "#d8576b"
             ],
             [
              0.6666666666666666,
              "#ed7953"
             ],
             [
              0.7777777777777778,
              "#fb9f3a"
             ],
             [
              0.8888888888888888,
              "#fdca26"
             ],
             [
              1,
              "#f0f921"
             ]
            ],
            "type": "histogram2d"
           }
          ],
          "histogram2dcontour": [
           {
            "colorbar": {
             "outlinewidth": 0,
             "ticks": ""
            },
            "colorscale": [
             [
              0,
              "#0d0887"
             ],
             [
              0.1111111111111111,
              "#46039f"
             ],
             [
              0.2222222222222222,
              "#7201a8"
             ],
             [
              0.3333333333333333,
              "#9c179e"
             ],
             [
              0.4444444444444444,
              "#bd3786"
             ],
             [
              0.5555555555555556,
              "#d8576b"
             ],
             [
              0.6666666666666666,
              "#ed7953"
             ],
             [
              0.7777777777777778,
              "#fb9f3a"
             ],
             [
              0.8888888888888888,
              "#fdca26"
             ],
             [
              1,
              "#f0f921"
             ]
            ],
            "type": "histogram2dcontour"
           }
          ],
          "mesh3d": [
           {
            "colorbar": {
             "outlinewidth": 0,
             "ticks": ""
            },
            "type": "mesh3d"
           }
          ],
          "parcoords": [
           {
            "line": {
             "colorbar": {
              "outlinewidth": 0,
              "ticks": ""
             }
            },
            "type": "parcoords"
           }
          ],
          "pie": [
           {
            "automargin": true,
            "type": "pie"
           }
          ],
          "scatter": [
           {
            "fillpattern": {
             "fillmode": "overlay",
             "size": 10,
             "solidity": 0.2
            },
            "type": "scatter"
           }
          ],
          "scatter3d": [
           {
            "line": {
             "colorbar": {
              "outlinewidth": 0,
              "ticks": ""
             }
            },
            "marker": {
             "colorbar": {
              "outlinewidth": 0,
              "ticks": ""
             }
            },
            "type": "scatter3d"
           }
          ],
          "scattercarpet": [
           {
            "marker": {
             "colorbar": {
              "outlinewidth": 0,
              "ticks": ""
             }
            },
            "type": "scattercarpet"
           }
          ],
          "scattergeo": [
           {
            "marker": {
             "colorbar": {
              "outlinewidth": 0,
              "ticks": ""
             }
            },
            "type": "scattergeo"
           }
          ],
          "scattergl": [
           {
            "marker": {
             "colorbar": {
              "outlinewidth": 0,
              "ticks": ""
             }
            },
            "type": "scattergl"
           }
          ],
          "scattermap": [
           {
            "marker": {
             "colorbar": {
              "outlinewidth": 0,
              "ticks": ""
             }
            },
            "type": "scattermap"
           }
          ],
          "scattermapbox": [
           {
            "marker": {
             "colorbar": {
              "outlinewidth": 0,
              "ticks": ""
             }
            },
            "type": "scattermapbox"
           }
          ],
          "scatterpolar": [
           {
            "marker": {
             "colorbar": {
              "outlinewidth": 0,
              "ticks": ""
             }
            },
            "type": "scatterpolar"
           }
          ],
          "scatterpolargl": [
           {
            "marker": {
             "colorbar": {
              "outlinewidth": 0,
              "ticks": ""
             }
            },
            "type": "scatterpolargl"
           }
          ],
          "scatterternary": [
           {
            "marker": {
             "colorbar": {
              "outlinewidth": 0,
              "ticks": ""
             }
            },
            "type": "scatterternary"
           }
          ],
          "surface": [
           {
            "colorbar": {
             "outlinewidth": 0,
             "ticks": ""
            },
            "colorscale": [
             [
              0,
              "#0d0887"
             ],
             [
              0.1111111111111111,
              "#46039f"
             ],
             [
              0.2222222222222222,
              "#7201a8"
             ],
             [
              0.3333333333333333,
              "#9c179e"
             ],
             [
              0.4444444444444444,
              "#bd3786"
             ],
             [
              0.5555555555555556,
              "#d8576b"
             ],
             [
              0.6666666666666666,
              "#ed7953"
             ],
             [
              0.7777777777777778,
              "#fb9f3a"
             ],
             [
              0.8888888888888888,
              "#fdca26"
             ],
             [
              1,
              "#f0f921"
             ]
            ],
            "type": "surface"
           }
          ],
          "table": [
           {
            "cells": {
             "fill": {
              "color": "#EBF0F8"
             },
             "line": {
              "color": "white"
             }
            },
            "header": {
             "fill": {
              "color": "#C8D4E3"
             },
             "line": {
              "color": "white"
             }
            },
            "type": "table"
           }
          ]
         },
         "layout": {
          "annotationdefaults": {
           "arrowcolor": "#2a3f5f",
           "arrowhead": 0,
           "arrowwidth": 1
          },
          "autotypenumbers": "strict",
          "coloraxis": {
           "colorbar": {
            "outlinewidth": 0,
            "ticks": ""
           }
          },
          "colorscale": {
           "diverging": [
            [
             0,
             "#8e0152"
            ],
            [
             0.1,
             "#c51b7d"
            ],
            [
             0.2,
             "#de77ae"
            ],
            [
             0.3,
             "#f1b6da"
            ],
            [
             0.4,
             "#fde0ef"
            ],
            [
             0.5,
             "#f7f7f7"
            ],
            [
             0.6,
             "#e6f5d0"
            ],
            [
             0.7,
             "#b8e186"
            ],
            [
             0.8,
             "#7fbc41"
            ],
            [
             0.9,
             "#4d9221"
            ],
            [
             1,
             "#276419"
            ]
           ],
           "sequential": [
            [
             0,
             "#0d0887"
            ],
            [
             0.1111111111111111,
             "#46039f"
            ],
            [
             0.2222222222222222,
             "#7201a8"
            ],
            [
             0.3333333333333333,
             "#9c179e"
            ],
            [
             0.4444444444444444,
             "#bd3786"
            ],
            [
             0.5555555555555556,
             "#d8576b"
            ],
            [
             0.6666666666666666,
             "#ed7953"
            ],
            [
             0.7777777777777778,
             "#fb9f3a"
            ],
            [
             0.8888888888888888,
             "#fdca26"
            ],
            [
             1,
             "#f0f921"
            ]
           ],
           "sequentialminus": [
            [
             0,
             "#0d0887"
            ],
            [
             0.1111111111111111,
             "#46039f"
            ],
            [
             0.2222222222222222,
             "#7201a8"
            ],
            [
             0.3333333333333333,
             "#9c179e"
            ],
            [
             0.4444444444444444,
             "#bd3786"
            ],
            [
             0.5555555555555556,
             "#d8576b"
            ],
            [
             0.6666666666666666,
             "#ed7953"
            ],
            [
             0.7777777777777778,
             "#fb9f3a"
            ],
            [
             0.8888888888888888,
             "#fdca26"
            ],
            [
             1,
             "#f0f921"
            ]
           ]
          },
          "colorway": [
           "#636efa",
           "#EF553B",
           "#00cc96",
           "#ab63fa",
           "#FFA15A",
           "#19d3f3",
           "#FF6692",
           "#B6E880",
           "#FF97FF",
           "#FECB52"
          ],
          "font": {
           "color": "#2a3f5f"
          },
          "geo": {
           "bgcolor": "white",
           "lakecolor": "white",
           "landcolor": "#E5ECF6",
           "showlakes": true,
           "showland": true,
           "subunitcolor": "white"
          },
          "hoverlabel": {
           "align": "left"
          },
          "hovermode": "closest",
          "mapbox": {
           "style": "light"
          },
          "paper_bgcolor": "white",
          "plot_bgcolor": "#E5ECF6",
          "polar": {
           "angularaxis": {
            "gridcolor": "white",
            "linecolor": "white",
            "ticks": ""
           },
           "bgcolor": "#E5ECF6",
           "radialaxis": {
            "gridcolor": "white",
            "linecolor": "white",
            "ticks": ""
           }
          },
          "scene": {
           "xaxis": {
            "backgroundcolor": "#E5ECF6",
            "gridcolor": "white",
            "gridwidth": 2,
            "linecolor": "white",
            "showbackground": true,
            "ticks": "",
            "zerolinecolor": "white"
           },
           "yaxis": {
            "backgroundcolor": "#E5ECF6",
            "gridcolor": "white",
            "gridwidth": 2,
            "linecolor": "white",
            "showbackground": true,
            "ticks": "",
            "zerolinecolor": "white"
           },
           "zaxis": {
            "backgroundcolor": "#E5ECF6",
            "gridcolor": "white",
            "gridwidth": 2,
            "linecolor": "white",
            "showbackground": true,
            "ticks": "",
            "zerolinecolor": "white"
           }
          },
          "shapedefaults": {
           "line": {
            "color": "#2a3f5f"
           }
          },
          "ternary": {
           "aaxis": {
            "gridcolor": "white",
            "linecolor": "white",
            "ticks": ""
           },
           "baxis": {
            "gridcolor": "white",
            "linecolor": "white",
            "ticks": ""
           },
           "bgcolor": "#E5ECF6",
           "caxis": {
            "gridcolor": "white",
            "linecolor": "white",
            "ticks": ""
           }
          },
          "title": {
           "x": 0.05
          },
          "xaxis": {
           "automargin": true,
           "gridcolor": "white",
           "linecolor": "white",
           "ticks": "",
           "title": {
            "standoff": 15
           },
           "zerolinecolor": "white",
           "zerolinewidth": 2
          },
          "yaxis": {
           "automargin": true,
           "gridcolor": "white",
           "linecolor": "white",
           "ticks": "",
           "title": {
            "standoff": 15
           },
           "zerolinecolor": "white",
           "zerolinewidth": 2
          }
         }
        },
        "title": {
         "text": "Distribution of Distress Conditions"
        }
       }
      }
     },
     "metadata": {},
     "output_type": "display_data"
    },
    {
     "data": {
      "application/vnd.plotly.v1+json": {
       "config": {
        "plotlyServerURL": "https://plot.ly"
       },
       "data": [
        {
         "name": "Durations",
         "type": "histogram",
         "x": {
          "bdata": "48O1owEVBUBl+L27A9IcQGw2oO+4Iv0/",
          "dtype": "f8"
         },
         "xaxis": "x",
         "yaxis": "y"
        },
        {
         "name": "Session 0",
         "orientation": "h",
         "type": "bar",
         "x": [
          2.635257033333333
         ],
         "xaxis": "x2",
         "y": [
          "Session 0"
         ],
         "yaxis": "y2"
        },
        {
         "name": "Session 1",
         "orientation": "h",
         "type": "bar",
         "x": [
          7.205092366666666
         ],
         "xaxis": "x2",
         "y": [
          "Session 1"
         ],
         "yaxis": "y2"
        },
        {
         "name": "Session 2",
         "orientation": "h",
         "type": "bar",
         "x": [
          1.82097715
         ],
         "xaxis": "x2",
         "y": [
          "Session 2"
         ],
         "yaxis": "y2"
        },
        {
         "name": "Emotions",
         "type": "bar",
         "x": [
          "neutral",
          "disappointment",
          "sadness",
          "approval",
          "annoyance",
          "realization",
          "disapproval",
          "nervousness",
          "joy",
          "fear",
          "excitement",
          "surprise",
          "curiosity",
          "gratitude",
          "optimism",
          "confusion",
          "relief",
          "desire",
          "love"
         ],
         "xaxis": "x3",
         "y": {
          "bdata": "DAsIBwcFBQUEBAMCAQEBAQEBAQ==",
          "dtype": "i1"
         },
         "yaxis": "y3"
        },
        {
         "domain": {
          "x": [
           0.55,
           1
          ],
          "y": [
           0,
           0.375
          ]
         },
         "labels": [
          "Normal",
          "Depression",
          "Anxiety",
          "Bipolar",
          "Suicidal"
         ],
         "type": "pie",
         "values": {
          "bdata": "DQgEAwI=",
          "dtype": "i1"
         }
        }
       ],
       "layout": {
        "annotations": [
         {
          "font": {
           "size": 16
          },
          "showarrow": false,
          "text": "Session Durations",
          "x": 0.225,
          "xanchor": "center",
          "xref": "paper",
          "y": 1,
          "yanchor": "bottom",
          "yref": "paper"
         },
         {
          "font": {
           "size": 16
          },
          "showarrow": false,
          "text": "Session Timelines",
          "x": 0.775,
          "xanchor": "center",
          "xref": "paper",
          "y": 1,
          "yanchor": "bottom",
          "yref": "paper"
         },
         {
          "font": {
           "size": 16
          },
          "showarrow": false,
          "text": "Emotions",
          "x": 0.225,
          "xanchor": "center",
          "xref": "paper",
          "y": 0.375,
          "yanchor": "bottom",
          "yref": "paper"
         },
         {
          "font": {
           "size": 16
          },
          "showarrow": false,
          "text": "Distress",
          "x": 0.775,
          "xanchor": "center",
          "xref": "paper",
          "y": 0.375,
          "yanchor": "bottom",
          "yref": "paper"
         }
        ],
        "showlegend": false,
        "template": {
         "data": {
          "bar": [
           {
            "error_x": {
             "color": "#2a3f5f"
            },
            "error_y": {
             "color": "#2a3f5f"
            },
            "marker": {
             "line": {
              "color": "#E5ECF6",
              "width": 0.5
             },
             "pattern": {
              "fillmode": "overlay",
              "size": 10,
              "solidity": 0.2
             }
            },
            "type": "bar"
           }
          ],
          "barpolar": [
           {
            "marker": {
             "line": {
              "color": "#E5ECF6",
              "width": 0.5
             },
             "pattern": {
              "fillmode": "overlay",
              "size": 10,
              "solidity": 0.2
             }
            },
            "type": "barpolar"
           }
          ],
          "carpet": [
           {
            "aaxis": {
             "endlinecolor": "#2a3f5f",
             "gridcolor": "white",
             "linecolor": "white",
             "minorgridcolor": "white",
             "startlinecolor": "#2a3f5f"
            },
            "baxis": {
             "endlinecolor": "#2a3f5f",
             "gridcolor": "white",
             "linecolor": "white",
             "minorgridcolor": "white",
             "startlinecolor": "#2a3f5f"
            },
            "type": "carpet"
           }
          ],
          "choropleth": [
           {
            "colorbar": {
             "outlinewidth": 0,
             "ticks": ""
            },
            "type": "choropleth"
           }
          ],
          "contour": [
           {
            "colorbar": {
             "outlinewidth": 0,
             "ticks": ""
            },
            "colorscale": [
             [
              0,
              "#0d0887"
             ],
             [
              0.1111111111111111,
              "#46039f"
             ],
             [
              0.2222222222222222,
              "#7201a8"
             ],
             [
              0.3333333333333333,
              "#9c179e"
             ],
             [
              0.4444444444444444,
              "#bd3786"
             ],
             [
              0.5555555555555556,
              "#d8576b"
             ],
             [
              0.6666666666666666,
              "#ed7953"
             ],
             [
              0.7777777777777778,
              "#fb9f3a"
             ],
             [
              0.8888888888888888,
              "#fdca26"
             ],
             [
              1,
              "#f0f921"
             ]
            ],
            "type": "contour"
           }
          ],
          "contourcarpet": [
           {
            "colorbar": {
             "outlinewidth": 0,
             "ticks": ""
            },
            "type": "contourcarpet"
           }
          ],
          "heatmap": [
           {
            "colorbar": {
             "outlinewidth": 0,
             "ticks": ""
            },
            "colorscale": [
             [
              0,
              "#0d0887"
             ],
             [
              0.1111111111111111,
              "#46039f"
             ],
             [
              0.2222222222222222,
              "#7201a8"
             ],
             [
              0.3333333333333333,
              "#9c179e"
             ],
             [
              0.4444444444444444,
              "#bd3786"
             ],
             [
              0.5555555555555556,
              "#d8576b"
             ],
             [
              0.6666666666666666,
              "#ed7953"
             ],
             [
              0.7777777777777778,
              "#fb9f3a"
             ],
             [
              0.8888888888888888,
              "#fdca26"
             ],
             [
              1,
              "#f0f921"
             ]
            ],
            "type": "heatmap"
           }
          ],
          "histogram": [
           {
            "marker": {
             "pattern": {
              "fillmode": "overlay",
              "size": 10,
              "solidity": 0.2
             }
            },
            "type": "histogram"
           }
          ],
          "histogram2d": [
           {
            "colorbar": {
             "outlinewidth": 0,
             "ticks": ""
            },
            "colorscale": [
             [
              0,
              "#0d0887"
             ],
             [
              0.1111111111111111,
              "#46039f"
             ],
             [
              0.2222222222222222,
              "#7201a8"
             ],
             [
              0.3333333333333333,
              "#9c179e"
             ],
             [
              0.4444444444444444,
              "#bd3786"
             ],
             [
              0.5555555555555556,
              "#d8576b"
             ],
             [
              0.6666666666666666,
              "#ed7953"
             ],
             [
              0.7777777777777778,
              "#fb9f3a"
             ],
             [
              0.8888888888888888,
              "#fdca26"
             ],
             [
              1,
              "#f0f921"
             ]
            ],
            "type": "histogram2d"
           }
          ],
          "histogram2dcontour": [
           {
            "colorbar": {
             "outlinewidth": 0,
             "ticks": ""
            },
            "colorscale": [
             [
              0,
              "#0d0887"
             ],
             [
              0.1111111111111111,
              "#46039f"
             ],
             [
              0.2222222222222222,
              "#7201a8"
             ],
             [
              0.3333333333333333,
              "#9c179e"
             ],
             [
              0.4444444444444444,
              "#bd3786"
             ],
             [
              0.5555555555555556,
              "#d8576b"
             ],
             [
              0.6666666666666666,
              "#ed7953"
             ],
             [
              0.7777777777777778,
              "#fb9f3a"
             ],
             [
              0.8888888888888888,
              "#fdca26"
             ],
             [
              1,
              "#f0f921"
             ]
            ],
            "type": "histogram2dcontour"
           }
          ],
          "mesh3d": [
           {
            "colorbar": {
             "outlinewidth": 0,
             "ticks": ""
            },
            "type": "mesh3d"
           }
          ],
          "parcoords": [
           {
            "line": {
             "colorbar": {
              "outlinewidth": 0,
              "ticks": ""
             }
            },
            "type": "parcoords"
           }
          ],
          "pie": [
           {
            "automargin": true,
            "type": "pie"
           }
          ],
          "scatter": [
           {
            "fillpattern": {
             "fillmode": "overlay",
             "size": 10,
             "solidity": 0.2
            },
            "type": "scatter"
           }
          ],
          "scatter3d": [
           {
            "line": {
             "colorbar": {
              "outlinewidth": 0,
              "ticks": ""
             }
            },
            "marker": {
             "colorbar": {
              "outlinewidth": 0,
              "ticks": ""
             }
            },
            "type": "scatter3d"
           }
          ],
          "scattercarpet": [
           {
            "marker": {
             "colorbar": {
              "outlinewidth": 0,
              "ticks": ""
             }
            },
            "type": "scattercarpet"
           }
          ],
          "scattergeo": [
           {
            "marker": {
             "colorbar": {
              "outlinewidth": 0,
              "ticks": ""
             }
            },
            "type": "scattergeo"
           }
          ],
          "scattergl": [
           {
            "marker": {
             "colorbar": {
              "outlinewidth": 0,
              "ticks": ""
             }
            },
            "type": "scattergl"
           }
          ],
          "scattermap": [
           {
            "marker": {
             "colorbar": {
              "outlinewidth": 0,
              "ticks": ""
             }
            },
            "type": "scattermap"
           }
          ],
          "scattermapbox": [
           {
            "marker": {
             "colorbar": {
              "outlinewidth": 0,
              "ticks": ""
             }
            },
            "type": "scattermapbox"
           }
          ],
          "scatterpolar": [
           {
            "marker": {
             "colorbar": {
              "outlinewidth": 0,
              "ticks": ""
             }
            },
            "type": "scatterpolar"
           }
          ],
          "scatterpolargl": [
           {
            "marker": {
             "colorbar": {
              "outlinewidth": 0,
              "ticks": ""
             }
            },
            "type": "scatterpolargl"
           }
          ],
          "scatterternary": [
           {
            "marker": {
             "colorbar": {
              "outlinewidth": 0,
              "ticks": ""
             }
            },
            "type": "scatterternary"
           }
          ],
          "surface": [
           {
            "colorbar": {
             "outlinewidth": 0,
             "ticks": ""
            },
            "colorscale": [
             [
              0,
              "#0d0887"
             ],
             [
              0.1111111111111111,
              "#46039f"
             ],
             [
              0.2222222222222222,
              "#7201a8"
             ],
             [
              0.3333333333333333,
              "#9c179e"
             ],
             [
              0.4444444444444444,
              "#bd3786"
             ],
             [
              0.5555555555555556,
              "#d8576b"
             ],
             [
              0.6666666666666666,
              "#ed7953"
             ],
             [
              0.7777777777777778,
              "#fb9f3a"
             ],
             [
              0.8888888888888888,
              "#fdca26"
             ],
             [
              1,
              "#f0f921"
             ]
            ],
            "type": "surface"
           }
          ],
          "table": [
           {
            "cells": {
             "fill": {
              "color": "#EBF0F8"
             },
             "line": {
              "color": "white"
             }
            },
            "header": {
             "fill": {
              "color": "#C8D4E3"
             },
             "line": {
              "color": "white"
             }
            },
            "type": "table"
           }
          ]
         },
         "layout": {
          "annotationdefaults": {
           "arrowcolor": "#2a3f5f",
           "arrowhead": 0,
           "arrowwidth": 1
          },
          "autotypenumbers": "strict",
          "coloraxis": {
           "colorbar": {
            "outlinewidth": 0,
            "ticks": ""
           }
          },
          "colorscale": {
           "diverging": [
            [
             0,
             "#8e0152"
            ],
            [
             0.1,
             "#c51b7d"
            ],
            [
             0.2,
             "#de77ae"
            ],
            [
             0.3,
             "#f1b6da"
            ],
            [
             0.4,
             "#fde0ef"
            ],
            [
             0.5,
             "#f7f7f7"
            ],
            [
             0.6,
             "#e6f5d0"
            ],
            [
             0.7,
             "#b8e186"
            ],
            [
             0.8,
             "#7fbc41"
            ],
            [
             0.9,
             "#4d9221"
            ],
            [
             1,
             "#276419"
            ]
           ],
           "sequential": [
            [
             0,
             "#0d0887"
            ],
            [
             0.1111111111111111,
             "#46039f"
            ],
            [
             0.2222222222222222,
             "#7201a8"
            ],
            [
             0.3333333333333333,
             "#9c179e"
            ],
            [
             0.4444444444444444,
             "#bd3786"
            ],
            [
             0.5555555555555556,
             "#d8576b"
            ],
            [
             0.6666666666666666,
             "#ed7953"
            ],
            [
             0.7777777777777778,
             "#fb9f3a"
            ],
            [
             0.8888888888888888,
             "#fdca26"
            ],
            [
             1,
             "#f0f921"
            ]
           ],
           "sequentialminus": [
            [
             0,
             "#0d0887"
            ],
            [
             0.1111111111111111,
             "#46039f"
            ],
            [
             0.2222222222222222,
             "#7201a8"
            ],
            [
             0.3333333333333333,
             "#9c179e"
            ],
            [
             0.4444444444444444,
             "#bd3786"
            ],
            [
             0.5555555555555556,
             "#d8576b"
            ],
            [
             0.6666666666666666,
             "#ed7953"
            ],
            [
             0.7777777777777778,
             "#fb9f3a"
            ],
            [
             0.8888888888888888,
             "#fdca26"
            ],
            [
             1,
             "#f0f921"
            ]
           ]
          },
          "colorway": [
           "#636efa",
           "#EF553B",
           "#00cc96",
           "#ab63fa",
           "#FFA15A",
           "#19d3f3",
           "#FF6692",
           "#B6E880",
           "#FF97FF",
           "#FECB52"
          ],
          "font": {
           "color": "#2a3f5f"
          },
          "geo": {
           "bgcolor": "white",
           "lakecolor": "white",
           "landcolor": "#E5ECF6",
           "showlakes": true,
           "showland": true,
           "subunitcolor": "white"
          },
          "hoverlabel": {
           "align": "left"
          },
          "hovermode": "closest",
          "mapbox": {
           "style": "light"
          },
          "paper_bgcolor": "white",
          "plot_bgcolor": "#E5ECF6",
          "polar": {
           "angularaxis": {
            "gridcolor": "white",
            "linecolor": "white",
            "ticks": ""
           },
           "bgcolor": "#E5ECF6",
           "radialaxis": {
            "gridcolor": "white",
            "linecolor": "white",
            "ticks": ""
           }
          },
          "scene": {
           "xaxis": {
            "backgroundcolor": "#E5ECF6",
            "gridcolor": "white",
            "gridwidth": 2,
            "linecolor": "white",
            "showbackground": true,
            "ticks": "",
            "zerolinecolor": "white"
           },
           "yaxis": {
            "backgroundcolor": "#E5ECF6",
            "gridcolor": "white",
            "gridwidth": 2,
            "linecolor": "white",
            "showbackground": true,
            "ticks": "",
            "zerolinecolor": "white"
           },
           "zaxis": {
            "backgroundcolor": "#E5ECF6",
            "gridcolor": "white",
            "gridwidth": 2,
            "linecolor": "white",
            "showbackground": true,
            "ticks": "",
            "zerolinecolor": "white"
           }
          },
          "shapedefaults": {
           "line": {
            "color": "#2a3f5f"
           }
          },
          "ternary": {
           "aaxis": {
            "gridcolor": "white",
            "linecolor": "white",
            "ticks": ""
           },
           "baxis": {
            "gridcolor": "white",
            "linecolor": "white",
            "ticks": ""
           },
           "bgcolor": "#E5ECF6",
           "caxis": {
            "gridcolor": "white",
            "linecolor": "white",
            "ticks": ""
           }
          },
          "title": {
           "x": 0.05
          },
          "xaxis": {
           "automargin": true,
           "gridcolor": "white",
           "linecolor": "white",
           "ticks": "",
           "title": {
            "standoff": 15
           },
           "zerolinecolor": "white",
           "zerolinewidth": 2
          },
          "yaxis": {
           "automargin": true,
           "gridcolor": "white",
           "linecolor": "white",
           "ticks": "",
           "title": {
            "standoff": 15
           },
           "zerolinecolor": "white",
           "zerolinewidth": 2
          }
         }
        },
        "title": {
         "text": "Chatbot Analytics Dashboard"
        },
        "xaxis": {
         "anchor": "y",
         "domain": [
          0,
          0.45
         ]
        },
        "xaxis2": {
         "anchor": "y2",
         "domain": [
          0.55,
          1
         ]
        },
        "xaxis3": {
         "anchor": "y3",
         "domain": [
          0,
          0.45
         ]
        },
        "yaxis": {
         "anchor": "x",
         "domain": [
          0.625,
          1
         ]
        },
        "yaxis2": {
         "anchor": "x2",
         "domain": [
          0.625,
          1
         ]
        },
        "yaxis3": {
         "anchor": "x3",
         "domain": [
          0,
          0.375
         ]
        }
       }
      }
     },
     "metadata": {},
     "output_type": "display_data"
    },
    {
     "name": "stdout",
     "output_type": "stream",
     "text": [
      "✅ JSON report saved successfully.\n",
      "✅ All Phase3 reports saved in ../results/reports/\n"
     ]
    }
   ],
   "source": [
    "# ===========================================\n",
    "# Phase 3 – Logging, Visualization & Reports\n",
    "# ===========================================\n",
    "\n",
    "import pandas as pd\n",
    "import numpy as np\n",
    "import matplotlib.pyplot as plt\n",
    "import seaborn as sns\n",
    "import plotly.express as px\n",
    "import plotly.graph_objects as go\n",
    "import plotly.figure_factory as ff\n",
    "from plotly.subplots import make_subplots\n",
    "from datetime import datetime\n",
    "import ast\n",
    "import json\n",
    "import os\n",
    "\n",
    "# =========================\n",
    "# Ensure reports directory exists\n",
    "# =========================\n",
    "os.makedirs(\"../results/reports\", exist_ok=True)\n",
    "\n",
    "# =========================\n",
    "# Load chatbot logs\n",
    "# =========================\n",
    "df = pd.read_csv(\"../results/logs/chatbot_logs.csv\", parse_dates=[\"timestamp\"])\n",
    "\n",
    "# =========================\n",
    "# Parse emotions & distress safely\n",
    "# =========================\n",
    "def parse_column(x):\n",
    "    if pd.isna(x) or x == \"\":\n",
    "        return []\n",
    "    if isinstance(x, str):\n",
    "        try:\n",
    "            return ast.literal_eval(x)\n",
    "        except Exception:\n",
    "            return []\n",
    "    return x\n",
    "\n",
    "df[\"emotions\"] = df[\"emotions\"].apply(parse_column)\n",
    "df[\"distress\"] = df[\"distress\"].apply(parse_column)\n",
    "\n",
    "# =========================\n",
    "# Add session handling\n",
    "# =========================\n",
    "session_timeout = pd.Timedelta(minutes=30)\n",
    "df = df.sort_values(\"timestamp\").reset_index(drop=True)\n",
    "sessions = []\n",
    "current_session = 0\n",
    "last_time = df.loc[0, \"timestamp\"]\n",
    "\n",
    "for i, row in df.iterrows():\n",
    "    if row[\"timestamp\"] - last_time > session_timeout:\n",
    "        current_session += 1\n",
    "    sessions.append(current_session)\n",
    "    last_time = row[\"timestamp\"]\n",
    "\n",
    "df[\"session_id\"] = sessions\n",
    "\n",
    "# =========================\n",
    "# Session durations\n",
    "# =========================\n",
    "session_info = df.groupby(\"session_id\").agg(\n",
    "    session_start=(\"timestamp\", \"min\"),\n",
    "    session_end=(\"timestamp\", \"max\"),\n",
    "    message_count=(\"user_input\", \"count\")\n",
    ").reset_index()\n",
    "\n",
    "session_info[\"session_duration\"] = session_info[\"session_end\"] - session_info[\"session_start\"]\n",
    "session_info[\"duration_minutes\"] = session_info[\"session_duration\"].dt.total_seconds() / 60\n",
    "\n",
    "print(\"📊 Session Info:\")\n",
    "print(session_info)\n",
    "\n",
    "# =========================\n",
    "# Static Visualization (Matplotlib/Seaborn)\n",
    "# =========================\n",
    "plt.figure(figsize=(8,5))\n",
    "sns.histplot(session_info[\"duration_minutes\"], bins=10, kde=True)\n",
    "plt.title(\"Distribution of Session Durations\")\n",
    "plt.xlabel(\"Duration (minutes)\")\n",
    "plt.ylabel(\"Number of Sessions\")\n",
    "plt.show()\n",
    "\n",
    "# =========================\n",
    "# Interactive Visualizations (Plotly)\n",
    "# =========================\n",
    "fig = px.histogram(\n",
    "    session_info,\n",
    "    x=\"duration_minutes\",\n",
    "    nbins=10,\n",
    "    title=\"Interactive Distribution of Session Durations\",\n",
    "    labels={\"duration_minutes\": \"Duration (minutes)\"},\n",
    "    color_discrete_sequence=[\"#1f77b4\"]\n",
    ")\n",
    "fig.update_layout(bargap=0.1)\n",
    "fig.show()\n",
    "\n",
    "# Gantt-style session timeline\n",
    "timeline_data = [\n",
    "    dict(Task=f\"Session {row['session_id']}\", Start=row[\"session_start\"], Finish=row[\"session_end\"])\n",
    "    for _, row in session_info.iterrows()\n",
    "]\n",
    "\n",
    "fig = ff.create_gantt(\n",
    "    timeline_data,\n",
    "    index_col=\"Task\",\n",
    "    show_colorbar=True,\n",
    "    group_tasks=True,\n",
    "    title=\"Session Timelines\"\n",
    ")\n",
    "fig.update_layout(xaxis_title=\"Time\", yaxis_title=\"Sessions\")\n",
    "fig.show()\n",
    "\n",
    "# Average session duration indicator\n",
    "avg_dur = session_info[\"duration_minutes\"].mean()\n",
    "longest_dur = session_info[\"duration_minutes\"].max()\n",
    "shortest_dur = session_info[\"duration_minutes\"].min()\n",
    "\n",
    "fig = go.Figure()\n",
    "fig.add_trace(go.Indicator(\n",
    "    mode=\"number+delta\",\n",
    "    value=avg_dur,\n",
    "    delta={'reference': shortest_dur, 'increasing': {'color': \"green\"}},\n",
    "    title={\"text\": \"Average Session Duration (min)\"}\n",
    "))\n",
    "fig.show()\n",
    "\n",
    "# =========================\n",
    "# Emotion Frequency Analysis\n",
    "# =========================\n",
    "all_emotions = []\n",
    "for row in df[\"emotions\"]:\n",
    "    if isinstance(row, list):\n",
    "        for e in row:\n",
    "            if isinstance(e, (list, tuple)) and len(e) > 0:\n",
    "                all_emotions.append(e[0])\n",
    "\n",
    "emotion_counts = pd.Series(all_emotions).value_counts().reset_index()\n",
    "emotion_counts.columns = [\"emotion\", \"count\"]\n",
    "\n",
    "fig = px.bar(\n",
    "    emotion_counts.head(10),\n",
    "    x=\"emotion\", y=\"count\",\n",
    "    title=\"Top 10 Emotions Detected\",\n",
    "    text=\"count\",\n",
    "    color=\"emotion\"\n",
    ")\n",
    "fig.show()\n",
    "\n",
    "# =========================\n",
    "# Distress Frequency Analysis\n",
    "# =========================\n",
    "all_distress = []\n",
    "for row in df[\"distress\"]:\n",
    "    if isinstance(row, list):\n",
    "        for d in row:\n",
    "            if isinstance(d, (list, tuple)) and len(d) > 0:\n",
    "                all_distress.append(d[0])\n",
    "\n",
    "distress_counts = pd.Series(all_distress).value_counts().reset_index()\n",
    "distress_counts.columns = [\"distress\", \"count\"]\n",
    "\n",
    "fig = px.pie(\n",
    "    distress_counts,\n",
    "    names=\"distress\", values=\"count\",\n",
    "    title=\"Distribution of Distress Conditions\"\n",
    ")\n",
    "fig.show()\n",
    "\n",
    "# =========================\n",
    "# Combine key charts into interactive dashboard\n",
    "# =========================\n",
    "fig = make_subplots(\n",
    "    rows=2, cols=2,\n",
    "    subplot_titles=(\"Session Durations\", \"Session Timelines\", \"Emotions\", \"Distress\"),\n",
    "    specs=[[{\"type\":\"xy\"}, {\"type\":\"xy\"}],\n",
    "           [{\"type\":\"bar\"}, {\"type\":\"domain\"}]]\n",
    ")\n",
    "\n",
    "# Session duration histogram\n",
    "fig.add_trace(go.Histogram(x=session_info[\"duration_minutes\"], name=\"Durations\"), row=1, col=1)\n",
    "\n",
    "# Session timelines\n",
    "for _, row in session_info.iterrows():\n",
    "    fig.add_trace(\n",
    "        go.Bar(\n",
    "            x=[(row[\"session_end\"]-row[\"session_start\"]).total_seconds()/60],\n",
    "            y=[f\"Session {row['session_id']}\"],\n",
    "            orientation=\"h\",\n",
    "            name=f\"Session {row['session_id']}\"\n",
    "        ), row=1, col=2\n",
    "    )\n",
    "\n",
    "# Emotion counts\n",
    "fig.add_trace(go.Bar(x=emotion_counts[\"emotion\"], y=emotion_counts[\"count\"], name=\"Emotions\"), row=2, col=1)\n",
    "\n",
    "# Distress pie\n",
    "fig.add_trace(go.Pie(labels=distress_counts[\"distress\"], values=distress_counts[\"count\"]), row=2, col=2)\n",
    "\n",
    "fig.update_layout(title_text=\"Chatbot Analytics Dashboard\", showlegend=False)\n",
    "fig.show()\n",
    "\n",
    "# =========================\n",
    "# Save all reports in ../results/reports/\n",
    "# =========================\n",
    "session_info.to_csv(\"../results/reports/session_info.csv\", index=False)\n",
    "emotion_counts.to_csv(\"../results/reports/emotion_counts.csv\", index=False)\n",
    "distress_counts.to_csv(\"../results/reports/distress_counts.csv\", index=False)\n",
    "\n",
    "# Convert timestamps and timedelta to strings / numbers for JSON\n",
    "session_info_serializable = session_info.copy()\n",
    "session_info_serializable[\"session_start\"] = session_info_serializable[\"session_start\"].astype(str)\n",
    "session_info_serializable[\"session_end\"] = session_info_serializable[\"session_end\"].astype(str)\n",
    "session_info_serializable[\"session_duration\"] = session_info_serializable[\"session_duration\"].apply(lambda x: str(x))\n",
    "\n",
    "# Combined JSON summary\n",
    "report = {\n",
    "    \"total_interactions\": int(len(df)),\n",
    "    \"top_emotions\": emotion_counts.head(10).to_dict('records'),\n",
    "    \"top_distress\": distress_counts.head(10).to_dict('records'),\n",
    "    \"session_stats\": session_info_serializable.to_dict('records')\n",
    "}\n",
    "\n",
    "# Save JSON\n",
    "with open(\"../results/reports/phase3_summary.json\", \"w\") as f:\n",
    "    import json\n",
    "    json.dump(report, f, indent=2)\n",
    "\n",
    "print(\"✅ JSON report saved successfully.\")\n",
    "\n",
    "# Save interactive dashboard\n",
    "fig.write_html(\"../results/reports/chatbot_dashboard.html\")\n",
    "print(\"✅ All Phase3 reports saved in ../results/reports/\")\n"
   ]
  },
  {
   "cell_type": "code",
   "execution_count": null,
   "id": "26b7b95b",
   "metadata": {},
   "outputs": [],
   "source": []
  },
  {
   "cell_type": "code",
   "execution_count": null,
   "id": "5f53f81b",
   "metadata": {},
   "outputs": [],
   "source": []
  },
  {
   "cell_type": "code",
   "execution_count": null,
   "id": "32be1265",
   "metadata": {},
   "outputs": [],
   "source": []
  },
  {
   "cell_type": "code",
   "execution_count": null,
   "id": "0f990823",
   "metadata": {},
   "outputs": [],
   "source": []
  },
  {
   "cell_type": "code",
   "execution_count": 32,
   "id": "b009214e",
   "metadata": {},
   "outputs": [
    {
     "name": "stdout",
     "output_type": "stream",
     "text": [
      "✅ Dashboard with flashcards saved: c:\\Users\\rijju\\Desktop\\mental-health-chatbot\\results\\reports\\overall_sessions_dashboard.html\n",
      "✅ Dashboard with flashcards saved: c:\\Users\\rijju\\Desktop\\mental-health-chatbot\\results\\reports\\present_session_dashboard.html\n"
     ]
    }
   ],
   "source": [
    "# ===========================================\n",
    "# Phase 3 – Logging, Visualization & Reports (Flashcard Version)\n",
    "# ===========================================\n",
    "\n",
    "import pandas as pd\n",
    "import numpy as np\n",
    "import plotly.express as px\n",
    "import plotly.graph_objects as go\n",
    "from plotly.subplots import make_subplots\n",
    "from datetime import datetime\n",
    "import ast, json, os\n",
    "\n",
    "# =========================\n",
    "# Paths\n",
    "# =========================\n",
    "results_dir = os.path.abspath(\"../results\")\n",
    "reports_dir = os.path.join(results_dir, \"reports\")\n",
    "os.makedirs(reports_dir, exist_ok=True)\n",
    "\n",
    "logs_path = os.path.join(results_dir, \"logs\", \"chatbot_logs.csv\")\n",
    "\n",
    "# =========================\n",
    "# Load chatbot logs\n",
    "# =========================\n",
    "df = pd.read_csv(logs_path, parse_dates=[\"timestamp\"])\n",
    "\n",
    "# =========================\n",
    "# Safe parse of emotions & distress\n",
    "# =========================\n",
    "def parse_column(x):\n",
    "    if pd.isna(x) or x == \"\":\n",
    "        return []\n",
    "    if isinstance(x, str):\n",
    "        try:\n",
    "            return ast.literal_eval(x)\n",
    "        except Exception:\n",
    "            return []\n",
    "    return x\n",
    "\n",
    "df[\"emotions\"] = df[\"emotions\"].apply(parse_column)\n",
    "df[\"distress\"] = df[\"distress\"].apply(parse_column)\n",
    "\n",
    "# =========================\n",
    "# Session handling (30 min timeout)\n",
    "# =========================\n",
    "session_timeout = pd.Timedelta(minutes=30)\n",
    "df = df.sort_values(\"timestamp\").reset_index(drop=True)\n",
    "\n",
    "sessions, current_session, last_time = [], 0, df.loc[0, \"timestamp\"]\n",
    "\n",
    "for _, row in df.iterrows():\n",
    "    if row[\"timestamp\"] - last_time > session_timeout:\n",
    "        current_session += 1\n",
    "    sessions.append(current_session)\n",
    "    last_time = row[\"timestamp\"]\n",
    "\n",
    "df[\"session_id\"] = sessions\n",
    "\n",
    "# Store session messages for interactivity\n",
    "sessions_messages = {\n",
    "    s: df[df[\"session_id\"] == s][[\"timestamp\", \"user_input\", \"emotions\", \"distress\"]].to_dict(\"records\")\n",
    "    for s in df[\"session_id\"].unique()\n",
    "}\n",
    "\n",
    "# =========================\n",
    "# Session info\n",
    "# =========================\n",
    "session_info = df.groupby(\"session_id\").agg(\n",
    "    session_start=(\"timestamp\", \"min\"),\n",
    "    session_end=(\"timestamp\", \"max\"),\n",
    "    message_count=(\"user_input\", \"count\")\n",
    ").reset_index()\n",
    "\n",
    "session_info[\"session_duration\"] = session_info[\"session_end\"] - session_info[\"session_start\"]\n",
    "session_info[\"duration_minutes\"] = session_info[\"session_duration\"].dt.total_seconds() / 60\n",
    "\n",
    "# =========================\n",
    "# Helpers for emotion & distress counts\n",
    "# =========================\n",
    "def flatten_first_element(lst):\n",
    "    return [e[0] for row in lst for e in row if isinstance(e, (list, tuple)) and len(e) > 0]\n",
    "\n",
    "def compute_counts(df_subset):\n",
    "    emotions = flatten_first_element(df_subset[\"emotions\"])\n",
    "    distress = flatten_first_element(df_subset[\"distress\"])\n",
    "    emo_counts = pd.Series(emotions).value_counts().reset_index()\n",
    "    emo_counts.columns = [\"emotion\", \"count\"]\n",
    "    dist_counts = pd.Series(distress).value_counts().reset_index()\n",
    "    dist_counts.columns = [\"distress\", \"count\"]\n",
    "    return emo_counts, dist_counts\n",
    "\n",
    "# =========================\n",
    "# Dashboard generator (flashcard instead of table)\n",
    "# =========================\n",
    "def generate_dashboard(df_sessions, title, save_path, sessions_messages, emotion_counts, distress_counts):\n",
    "    # Convert session keys to strings for JS\n",
    "    sessions_messages_fixed = {\n",
    "        str(k): [\n",
    "            {\n",
    "                \"timestamp\": str(m[\"timestamp\"]),\n",
    "                \"user_input\": m[\"user_input\"],\n",
    "                \"emotions\": m[\"emotions\"],\n",
    "                \"distress\": m[\"distress\"],\n",
    "            }\n",
    "            for m in v\n",
    "        ]\n",
    "        for k, v in sessions_messages.items()\n",
    "    }\n",
    "\n",
    "    # Histogram of session durations\n",
    "    hist_fig = px.histogram(df_sessions, x=\"duration_minutes\", nbins=10,\n",
    "                            title=\"Session Duration Distribution\",\n",
    "                            labels={\"duration_minutes\": \"Minutes\"})\n",
    "\n",
    "    # Timeline chart\n",
    "    timeline_fig = go.Figure()\n",
    "    for _, row in df_sessions.iterrows():\n",
    "        timeline_fig.add_trace(go.Scatter(\n",
    "            x=[row[\"session_start\"], row[\"session_end\"]],\n",
    "            y=[f\"Session {row['session_id']}\"]*2,\n",
    "            mode=\"lines\",\n",
    "            line=dict(width=10),\n",
    "            name=f\"Session {row['session_id']}\",\n",
    "            customdata=[[str(row[\"session_id\"]), str(row[\"session_id\"])]],\n",
    "            hovertemplate=\"Session %{y}<br>Start: %{x}<extra></extra>\"\n",
    "        ))\n",
    "\n",
    "    timeline_fig.update_layout(title=\"Session Timelines\",\n",
    "        xaxis=dict(rangeslider=dict(visible=True), type=\"date\"),\n",
    "        yaxis=dict(title=\"Sessions\"))\n",
    "\n",
    "    # Average session duration indicator\n",
    "    avg_dur = df_sessions[\"duration_minutes\"].mean()\n",
    "    indicator_fig = go.Figure(go.Indicator(\n",
    "        mode=\"number\",\n",
    "        value=avg_dur,\n",
    "        title={\"text\": \"Avg Duration (min)\"}\n",
    "    ))\n",
    "\n",
    "    # Emotion bar & distress pie\n",
    "    emo_fig = go.Figure(go.Bar(x=emotion_counts[\"emotion\"], y=emotion_counts[\"count\"]))\n",
    "    dist_fig = go.Figure(go.Pie(labels=distress_counts[\"distress\"], values=distress_counts[\"count\"]))\n",
    "\n",
    "    # Dashboard layout (2 per row grid, no empty tables)\n",
    "    fig = make_subplots(\n",
    "        rows=3, cols=2,\n",
    "        subplot_titles=(\"Durations\", \"Timelines\", \"Avg Duration\",\n",
    "                        \"Emotions\", \"Distress\", \"Flashcards\"),\n",
    "        specs=[[{\"type\":\"xy\"},{\"type\":\"xy\"}],\n",
    "               [{\"type\":\"indicator\"},{\"type\":\"bar\"}],\n",
    "               [{\"type\":\"domain\"},{\"type\":\"domain\"}]]\n",
    "    )\n",
    "\n",
    "    # Row 1\n",
    "    for t in hist_fig.data: fig.add_trace(t, row=1, col=1)\n",
    "    for t in timeline_fig.data: fig.add_trace(t, row=1, col=2)\n",
    "\n",
    "    # Row 2\n",
    "    for t in indicator_fig.data: fig.add_trace(t, row=2, col=1)\n",
    "    for t in emo_fig.data: fig.add_trace(t, row=2, col=2)\n",
    "\n",
    "    # Row 3\n",
    "    for t in dist_fig.data: fig.add_trace(t, row=3, col=1)\n",
    "\n",
    "    fig.update_layout(title_text=title, height=1200)\n",
    "\n",
    "    # =========================\n",
    "    # Inject Flashcard container (custom HTML)\n",
    "    # =========================\n",
    "    js_code = f\"\"\"\n",
    "<script>\n",
    "const plot = document.getElementsByClassName('js-plotly-plot')[0];\n",
    "const sessions_messages = {json.dumps(sessions_messages_fixed)};\n",
    "\n",
    "// Create overlay container\n",
    "let overlay = document.createElement(\"div\");\n",
    "overlay.id = \"flashOverlay\";\n",
    "overlay.style.position = \"fixed\";\n",
    "overlay.style.top = \"0\";\n",
    "overlay.style.left = \"0\";\n",
    "overlay.style.width = \"100%\";\n",
    "overlay.style.height = \"100%\";\n",
    "overlay.style.backgroundColor = \"rgba(0,0,0,0.5)\";\n",
    "overlay.style.display = \"none\";\n",
    "overlay.style.alignItems = \"center\";\n",
    "overlay.style.justifyContent = \"center\";\n",
    "overlay.style.zIndex = \"1000\";\n",
    "document.body.appendChild(overlay);\n",
    "\n",
    "// Flashcard container\n",
    "let flashDiv = document.createElement(\"div\");\n",
    "flashDiv.id = \"flashcard\";\n",
    "flashDiv.style.border = \"1px solid #ddd\";\n",
    "flashDiv.style.borderRadius = \"10px\";\n",
    "flashDiv.style.boxShadow = \"0 2px 6px rgba(0,0,0,0.25)\";\n",
    "flashDiv.style.padding = \"20px\";\n",
    "flashDiv.style.width = \"60%\";\n",
    "flashDiv.style.maxHeight = \"80%\";\n",
    "flashDiv.style.overflowY = \"auto\";\n",
    "flashDiv.style.backgroundColor = \"#fff\";\n",
    "flashDiv.style.position = \"relative\";\n",
    "overlay.appendChild(flashDiv);\n",
    "\n",
    "// Close button\n",
    "let closeBtn = document.createElement(\"span\");\n",
    "closeBtn.innerHTML = \"&times;\";\n",
    "closeBtn.style.position = \"absolute\";\n",
    "closeBtn.style.top = \"10px\";\n",
    "closeBtn.style.right = \"15px\";\n",
    "closeBtn.style.cursor = \"pointer\";\n",
    "closeBtn.style.fontSize = \"22px\";\n",
    "closeBtn.style.fontWeight = \"bold\";\n",
    "flashDiv.appendChild(closeBtn);\n",
    "\n",
    "closeBtn.onclick = () => {{ overlay.style.display = \"none\"; }};\n",
    "overlay.onclick = (e) => {{ if (e.target === overlay) overlay.style.display = \"none\"; }};\n",
    "\n",
    "// Robust frequency counter\n",
    "function countFrequencies(arr) {{\n",
    "    let freq = {{}};\n",
    "    arr.forEach(v => {{\n",
    "        if (Array.isArray(v)) {{\n",
    "            // Case 1: nested array [[label, score], ...]\n",
    "            v.forEach(e => {{\n",
    "                let label = Array.isArray(e) ? e[0] : e;\n",
    "                freq[label] = (freq[label] || 0) + 1;\n",
    "            }});\n",
    "        }} else {{\n",
    "            // Case 2: flat array [\"label1\", \"label2\"]\n",
    "            freq[v] = (freq[v] || 0) + 1;\n",
    "        }}\n",
    "    }});\n",
    "    return freq;\n",
    "}}\n",
    "\n",
    "// On clicking timeline session\n",
    "plot.on('plotly_click', function(data){{\n",
    "    const session_id = String(data.points[0].customdata[0]);\n",
    "    const messages = sessions_messages[session_id];\n",
    "    if (!messages) return;\n",
    "\n",
    "    flashDiv.innerHTML = \"\";\n",
    "    flashDiv.appendChild(closeBtn);\n",
    "\n",
    "    let header = document.createElement(\"h3\");\n",
    "    header.textContent = \"Session \" + session_id;\n",
    "    flashDiv.appendChild(header);\n",
    "\n",
    "    let allEmo = [], allDist = [];\n",
    "    messages.forEach(m => {{\n",
    "        if (Array.isArray(m.emotions)) allEmo.push(m.emotions);\n",
    "        if (Array.isArray(m.distress)) allDist.push(m.distress);\n",
    "    }});\n",
    "    let emoCounts = countFrequencies(allEmo);\n",
    "    let distCounts = countFrequencies(allDist);\n",
    "\n",
    "    let summary = document.createElement(\"div\");\n",
    "    summary.innerHTML = `\n",
    "        <h4>Summary</h4>\n",
    "        <p><b>Start:</b> ${{messages[0].timestamp}}</p>\n",
    "        <p><b>End:</b> ${{messages[messages.length-1].timestamp}}</p>\n",
    "        <p><b>Messages:</b> ${{messages.length}}</p>\n",
    "        <p><b>Emotions Occurred:</b></p>\n",
    "        <ul>${{\n",
    "            Object.entries(emoCounts).map(([k,v]) => `<li>${{k}}: ${{v}}</li>`).join(\"\")\n",
    "        }}</ul>\n",
    "        <p><b>Distress Conditions Occurred:</b></p>\n",
    "        <ul>${{\n",
    "            Object.entries(distCounts).map(([k,v]) => `<li>${{k}}: ${{v}}</li>`).join(\"\")\n",
    "        }}</ul>\n",
    "    `;\n",
    "    flashDiv.appendChild(summary);\n",
    "\n",
    "    // Chat log\n",
    "    let log = document.createElement(\"div\");\n",
    "    log.style.marginTop = \"15px\";\n",
    "    log.innerHTML = \"<h4>Chat Log</h4>\";\n",
    "\n",
    "    let chatBox = document.createElement(\"div\");\n",
    "    chatBox.style.display = \"flex\";\n",
    "    chatBox.style.flexDirection = \"column\";\n",
    "    chatBox.style.gap = \"10px\";\n",
    "    chatBox.style.padding = \"10px\";\n",
    "    chatBox.style.border = \"1px solid #eee\";\n",
    "    chatBox.style.borderRadius = \"8px\";\n",
    "    chatBox.style.backgroundColor = \"#fafafa\";\n",
    "    chatBox.style.maxHeight = \"300px\";\n",
    "    chatBox.style.overflowY = \"auto\";\n",
    "\n",
    "    messages.forEach(m => {{\n",
    "        let bubble = document.createElement(\"div\");\n",
    "        bubble.style.padding = \"8px 12px\";\n",
    "        bubble.style.borderRadius = \"8px\";\n",
    "        bubble.style.maxWidth = \"75%\";\n",
    "        bubble.style.wordWrap = \"break-word\";\n",
    "        bubble.style.fontSize = \"14px\";\n",
    "        bubble.style.lineHeight = \"1.4\";\n",
    "        bubble.style.boxShadow = \"0 1px 3px rgba(0,0,0,0.1)\";\n",
    "\n",
    "        if (m.sender === \"user\") {{\n",
    "            bubble.style.alignSelf = \"flex-end\";\n",
    "            bubble.style.backgroundColor = \"#d1e7dd\";\n",
    "        }} else {{\n",
    "            bubble.style.alignSelf = \"flex-start\";\n",
    "            bubble.style.backgroundColor = \"#f8d7da\";\n",
    "        }}\n",
    "\n",
    "        // Show only labels\n",
    "        const emoLabels = Array.isArray(m.emotions) ? m.emotions.map(e => Array.isArray(e)? e[0]: e).join(\", \") : \"\";\n",
    "        const distLabels = Array.isArray(m.distress) ? m.distress.map(e => Array.isArray(e)? e[0]: e).join(\", \") : \"\";\n",
    "\n",
    "        bubble.innerHTML = `<b>[${{m.timestamp}}]</b><br>${{m.user_input || m.bot_response}}<br>\n",
    "            <small>Emotions: ${{emoLabels}} | Distress: ${{distLabels}}</small>`;\n",
    "\n",
    "        chatBox.appendChild(bubble);\n",
    "    }});\n",
    "\n",
    "    log.appendChild(chatBox);\n",
    "    flashDiv.appendChild(log);\n",
    "\n",
    "    overlay.style.display = \"flex\";\n",
    "}});\n",
    "</script>\n",
    "\"\"\"\n",
    "\n",
    "\n",
    "\n",
    "    fig.write_html(save_path, include_plotlyjs='cdn', full_html=True)\n",
    "    with open(save_path, \"a\") as f: f.write(js_code)\n",
    "    print(f\"✅ Dashboard with flashcards saved: {save_path}\")\n",
    "\n",
    "\n",
    "# =========================\n",
    "# Generate dashboards\n",
    "# =========================\n",
    "# Overall\n",
    "overall_emo, overall_dist = compute_counts(df)\n",
    "generate_dashboard(session_info, \"Overall Sessions Dashboard\",\n",
    "                   os.path.join(reports_dir, \"overall_sessions_dashboard.html\"),\n",
    "                   sessions_messages, overall_emo, overall_dist)\n",
    "\n",
    "# Present session\n",
    "latest_session_id = session_info[\"session_id\"].max()\n",
    "present_df = df[df[\"session_id\"] == latest_session_id]\n",
    "present_info = session_info[session_info[\"session_id\"] == latest_session_id]\n",
    "present_emo, present_dist = compute_counts(present_df)\n",
    "\n",
    "generate_dashboard(present_info, f\"Present Session Dashboard (Session {latest_session_id})\",\n",
    "                   os.path.join(reports_dir, \"present_session_dashboard.html\"),\n",
    "                   sessions_messages, present_emo, present_dist)\n"
   ]
  },
  {
   "cell_type": "code",
   "execution_count": null,
   "id": "03a9e132",
   "metadata": {},
   "outputs": [],
   "source": []
  },
  {
   "cell_type": "code",
   "execution_count": null,
   "id": "778423bf",
   "metadata": {},
   "outputs": [],
   "source": []
  },
  {
   "cell_type": "code",
   "execution_count": null,
   "id": "d891cb8e",
   "metadata": {},
   "outputs": [],
   "source": []
  },
  {
   "cell_type": "code",
   "execution_count": 37,
   "id": "b50d7af3",
   "metadata": {},
   "outputs": [
    {
     "ename": "KeyError",
     "evalue": "\"['bot_response', 'sender'] not in index\"",
     "output_type": "error",
     "traceback": [
      "\u001b[31m---------------------------------------------------------------------------\u001b[39m",
      "\u001b[31mKeyError\u001b[39m                                  Traceback (most recent call last)",
      "\u001b[36mCell\u001b[39m\u001b[36m \u001b[39m\u001b[32mIn[37]\u001b[39m\u001b[32m, line 317\u001b[39m\n\u001b[32m    313\u001b[39m \u001b[38;5;66;03m# =========================\u001b[39;00m\n\u001b[32m    314\u001b[39m \u001b[38;5;66;03m# Run update\u001b[39;00m\n\u001b[32m    315\u001b[39m \u001b[38;5;66;03m# =========================\u001b[39;00m\n\u001b[32m    316\u001b[39m \u001b[38;5;28;01mif\u001b[39;00m \u001b[34m__name__\u001b[39m == \u001b[33m\"\u001b[39m\u001b[33m__main__\u001b[39m\u001b[33m\"\u001b[39m:\n\u001b[32m--> \u001b[39m\u001b[32m317\u001b[39m     \u001b[43mupdate_dashboards\u001b[49m\u001b[43m(\u001b[49m\u001b[43m)\u001b[49m\n",
      "\u001b[36mCell\u001b[39m\u001b[36m \u001b[39m\u001b[32mIn[37]\u001b[39m\u001b[32m, line 280\u001b[39m, in \u001b[36mupdate_dashboards\u001b[39m\u001b[34m()\u001b[39m\n\u001b[32m    276\u001b[39m session_info[\u001b[33m\"\u001b[39m\u001b[33mduration_minutes\u001b[39m\u001b[33m\"\u001b[39m] = session_info[\u001b[33m\"\u001b[39m\u001b[33msession_duration\u001b[39m\u001b[33m\"\u001b[39m].dt.total_seconds() / \u001b[32m60\u001b[39m\n\u001b[32m    278\u001b[39m \u001b[38;5;66;03m# Store session messages\u001b[39;00m\n\u001b[32m    279\u001b[39m sessions_messages = {\n\u001b[32m--> \u001b[39m\u001b[32m280\u001b[39m     s: \u001b[43mdf\u001b[49m\u001b[43m[\u001b[49m\u001b[43mdf\u001b[49m\u001b[43m[\u001b[49m\u001b[33;43m\"\u001b[39;49m\u001b[33;43msession_id\u001b[39;49m\u001b[33;43m\"\u001b[39;49m\u001b[43m]\u001b[49m\u001b[43m \u001b[49m\u001b[43m==\u001b[49m\u001b[43m \u001b[49m\u001b[43ms\u001b[49m\u001b[43m]\u001b[49m\u001b[43m[\u001b[49m\u001b[43m[\u001b[49m\u001b[33;43m\"\u001b[39;49m\u001b[33;43mtimestamp\u001b[39;49m\u001b[33;43m\"\u001b[39;49m\u001b[43m,\u001b[49m\u001b[33;43m\"\u001b[39;49m\u001b[33;43muser_input\u001b[39;49m\u001b[33;43m\"\u001b[39;49m\u001b[43m,\u001b[49m\u001b[33;43m\"\u001b[39;49m\u001b[33;43mbot_response\u001b[39;49m\u001b[33;43m\"\u001b[39;49m\u001b[43m,\u001b[49m\u001b[33;43m\"\u001b[39;49m\u001b[33;43memotions\u001b[39;49m\u001b[33;43m\"\u001b[39;49m\u001b[43m,\u001b[49m\u001b[33;43m\"\u001b[39;49m\u001b[33;43mdistress\u001b[39;49m\u001b[33;43m\"\u001b[39;49m\u001b[43m,\u001b[49m\u001b[33;43m\"\u001b[39;49m\u001b[33;43msender\u001b[39;49m\u001b[33;43m\"\u001b[39;49m\u001b[43m]\u001b[49m\u001b[43m]\u001b[49m.to_dict(\u001b[33m\"\u001b[39m\u001b[33mrecords\u001b[39m\u001b[33m\"\u001b[39m)\n\u001b[32m    281\u001b[39m     \u001b[38;5;28;01mfor\u001b[39;00m s \u001b[38;5;129;01min\u001b[39;00m df[\u001b[33m\"\u001b[39m\u001b[33msession_id\u001b[39m\u001b[33m\"\u001b[39m].unique()\n\u001b[32m    282\u001b[39m }\n\u001b[32m    284\u001b[39m \u001b[38;5;66;03m# Save JSON summaries\u001b[39;00m\n\u001b[32m    285\u001b[39m save_session_summary_json(sessions_messages, reports_dir)\n",
      "\u001b[36mFile \u001b[39m\u001b[32mc:\\Users\\rijju\\Desktop\\mental-health-chatbot\\myenv\\Lib\\site-packages\\pandas\\core\\frame.py:4113\u001b[39m, in \u001b[36mDataFrame.__getitem__\u001b[39m\u001b[34m(self, key)\u001b[39m\n\u001b[32m   4111\u001b[39m     \u001b[38;5;28;01mif\u001b[39;00m is_iterator(key):\n\u001b[32m   4112\u001b[39m         key = \u001b[38;5;28mlist\u001b[39m(key)\n\u001b[32m-> \u001b[39m\u001b[32m4113\u001b[39m     indexer = \u001b[38;5;28;43mself\u001b[39;49m\u001b[43m.\u001b[49m\u001b[43mcolumns\u001b[49m\u001b[43m.\u001b[49m\u001b[43m_get_indexer_strict\u001b[49m\u001b[43m(\u001b[49m\u001b[43mkey\u001b[49m\u001b[43m,\u001b[49m\u001b[43m \u001b[49m\u001b[33;43m\"\u001b[39;49m\u001b[33;43mcolumns\u001b[39;49m\u001b[33;43m\"\u001b[39;49m\u001b[43m)\u001b[49m[\u001b[32m1\u001b[39m]\n\u001b[32m   4115\u001b[39m \u001b[38;5;66;03m# take() does not accept boolean indexers\u001b[39;00m\n\u001b[32m   4116\u001b[39m \u001b[38;5;28;01mif\u001b[39;00m \u001b[38;5;28mgetattr\u001b[39m(indexer, \u001b[33m\"\u001b[39m\u001b[33mdtype\u001b[39m\u001b[33m\"\u001b[39m, \u001b[38;5;28;01mNone\u001b[39;00m) == \u001b[38;5;28mbool\u001b[39m:\n",
      "\u001b[36mFile \u001b[39m\u001b[32mc:\\Users\\rijju\\Desktop\\mental-health-chatbot\\myenv\\Lib\\site-packages\\pandas\\core\\indexes\\base.py:6212\u001b[39m, in \u001b[36mIndex._get_indexer_strict\u001b[39m\u001b[34m(self, key, axis_name)\u001b[39m\n\u001b[32m   6209\u001b[39m \u001b[38;5;28;01melse\u001b[39;00m:\n\u001b[32m   6210\u001b[39m     keyarr, indexer, new_indexer = \u001b[38;5;28mself\u001b[39m._reindex_non_unique(keyarr)\n\u001b[32m-> \u001b[39m\u001b[32m6212\u001b[39m \u001b[38;5;28;43mself\u001b[39;49m\u001b[43m.\u001b[49m\u001b[43m_raise_if_missing\u001b[49m\u001b[43m(\u001b[49m\u001b[43mkeyarr\u001b[49m\u001b[43m,\u001b[49m\u001b[43m \u001b[49m\u001b[43mindexer\u001b[49m\u001b[43m,\u001b[49m\u001b[43m \u001b[49m\u001b[43maxis_name\u001b[49m\u001b[43m)\u001b[49m\n\u001b[32m   6214\u001b[39m keyarr = \u001b[38;5;28mself\u001b[39m.take(indexer)\n\u001b[32m   6215\u001b[39m \u001b[38;5;28;01mif\u001b[39;00m \u001b[38;5;28misinstance\u001b[39m(key, Index):\n\u001b[32m   6216\u001b[39m     \u001b[38;5;66;03m# GH 42790 - Preserve name from an Index\u001b[39;00m\n",
      "\u001b[36mFile \u001b[39m\u001b[32mc:\\Users\\rijju\\Desktop\\mental-health-chatbot\\myenv\\Lib\\site-packages\\pandas\\core\\indexes\\base.py:6264\u001b[39m, in \u001b[36mIndex._raise_if_missing\u001b[39m\u001b[34m(self, key, indexer, axis_name)\u001b[39m\n\u001b[32m   6261\u001b[39m     \u001b[38;5;28;01mraise\u001b[39;00m \u001b[38;5;167;01mKeyError\u001b[39;00m(\u001b[33mf\u001b[39m\u001b[33m\"\u001b[39m\u001b[33mNone of [\u001b[39m\u001b[38;5;132;01m{\u001b[39;00mkey\u001b[38;5;132;01m}\u001b[39;00m\u001b[33m] are in the [\u001b[39m\u001b[38;5;132;01m{\u001b[39;00maxis_name\u001b[38;5;132;01m}\u001b[39;00m\u001b[33m]\u001b[39m\u001b[33m\"\u001b[39m)\n\u001b[32m   6263\u001b[39m not_found = \u001b[38;5;28mlist\u001b[39m(ensure_index(key)[missing_mask.nonzero()[\u001b[32m0\u001b[39m]].unique())\n\u001b[32m-> \u001b[39m\u001b[32m6264\u001b[39m \u001b[38;5;28;01mraise\u001b[39;00m \u001b[38;5;167;01mKeyError\u001b[39;00m(\u001b[33mf\u001b[39m\u001b[33m\"\u001b[39m\u001b[38;5;132;01m{\u001b[39;00mnot_found\u001b[38;5;132;01m}\u001b[39;00m\u001b[33m not in index\u001b[39m\u001b[33m\"\u001b[39m)\n",
      "\u001b[31mKeyError\u001b[39m: \"['bot_response', 'sender'] not in index\""
     ]
    }
   ],
   "source": [
    "# ===========================================\n",
    "# Phase 3 – Logging, Visualization & Reports (Dynamic & Flashcard Version with JSON)\n",
    "# ===========================================\n",
    "\n",
    "import pandas as pd\n",
    "import numpy as np\n",
    "import plotly.express as px\n",
    "import plotly.graph_objects as go\n",
    "from plotly.subplots import make_subplots\n",
    "from datetime import datetime\n",
    "import ast, json, os\n",
    "\n",
    "# =========================\n",
    "# Paths\n",
    "# =========================\n",
    "results_dir = os.path.abspath(\"../results\")\n",
    "reports_dir = os.path.join(results_dir, \"reports\")\n",
    "os.makedirs(reports_dir, exist_ok=True)\n",
    "\n",
    "logs_path = os.path.join(results_dir, \"logs\", \"chatbot_logs.csv\")\n",
    "\n",
    "# =========================\n",
    "# Safe parse of emotions & distress\n",
    "# =========================\n",
    "def parse_column(x):\n",
    "    if pd.isna(x) or x == \"\":\n",
    "        return []\n",
    "    if isinstance(x, str):\n",
    "        try:\n",
    "            return ast.literal_eval(x)\n",
    "        except Exception:\n",
    "            return []\n",
    "    return x\n",
    "\n",
    "# =========================\n",
    "# Helpers for emotion & distress counts\n",
    "# =========================\n",
    "def flatten_first_element(lst):\n",
    "    return [e[0] for row in lst for e in row if isinstance(e, (list, tuple)) and len(e) > 0]\n",
    "\n",
    "def compute_counts(df_subset):\n",
    "    emotions = flatten_first_element(df_subset[\"emotions\"])\n",
    "    distress = flatten_first_element(df_subset[\"distress\"])\n",
    "    emo_counts = pd.Series(emotions).value_counts().reset_index()\n",
    "    emo_counts.columns = [\"emotion\", \"count\"]\n",
    "    dist_counts = pd.Series(distress).value_counts().reset_index()\n",
    "    dist_counts.columns = [\"distress\", \"count\"]\n",
    "    return emo_counts, dist_counts\n",
    "\n",
    "# =========================\n",
    "# Load chat logs dynamically\n",
    "# =========================\n",
    "def load_chat_logs(logs_path):\n",
    "    df = pd.read_csv(logs_path, parse_dates=[\"timestamp\"])\n",
    "    df[\"emotions\"] = df[\"emotions\"].apply(parse_column)\n",
    "    df[\"distress\"] = df[\"distress\"].apply(parse_column)\n",
    "    \n",
    "    # Session handling (30 min timeout)\n",
    "    session_timeout = pd.Timedelta(minutes=30)\n",
    "    df = df.sort_values(\"timestamp\").reset_index(drop=True)\n",
    "    sessions, current_session, last_time = [], 0, df.loc[0, \"timestamp\"]\n",
    "    for _, row in df.iterrows():\n",
    "        if row[\"timestamp\"] - last_time > session_timeout:\n",
    "            current_session += 1\n",
    "        sessions.append(current_session)\n",
    "        last_time = row[\"timestamp\"]\n",
    "    df[\"session_id\"] = sessions\n",
    "    return df\n",
    "\n",
    "# =========================\n",
    "# Save session summary JSON\n",
    "# =========================\n",
    "def save_session_summary_json(sessions_messages, save_dir):\n",
    "    for session_id, messages in sessions_messages.items():\n",
    "        if not messages:\n",
    "            continue\n",
    "\n",
    "        all_emo = [e[0] for row in messages for e in row[\"emotions\"] if isinstance(e, (list, tuple)) and len(e) > 0]\n",
    "        all_dist = [d[0] for row in messages for d in row[\"distress\"] if isinstance(d, (list, tuple)) and len(d) > 0]\n",
    "\n",
    "        summary = {\n",
    "            \"session_id\": session_id,\n",
    "            \"start_time\": str(messages[0][\"timestamp\"]),\n",
    "            \"end_time\": str(messages[-1][\"timestamp\"]),\n",
    "            \"message_count\": len(messages),\n",
    "            \"emotions_count\": {k: all_emo.count(k) for k in set(all_emo)},\n",
    "            \"distress_count\": {k: all_dist.count(k) for k in set(all_dist)},\n",
    "            \"chat_log\": messages\n",
    "        }\n",
    "\n",
    "        json_path = os.path.join(save_dir, f\"session_{session_id}_summary.json\")\n",
    "        with open(json_path, \"w\", encoding=\"utf-8\") as f:\n",
    "            json.dump(summary, f, ensure_ascii=False, indent=2)\n",
    "\n",
    "# =========================\n",
    "# Dashboard generator\n",
    "# =========================\n",
    "def generate_dashboard(df_sessions, title, save_path, sessions_messages, emotion_counts, distress_counts):\n",
    "    # Convert session keys to strings for JS\n",
    "    sessions_messages_fixed = {\n",
    "        str(k): [\n",
    "            {\n",
    "                \"timestamp\": str(m[\"timestamp\"]),\n",
    "                \"user_input\": m.get(\"user_input\",\"\"),\n",
    "                \"bot_response\": m.get(\"bot_response\",\"\"),\n",
    "                \"emotions\": m[\"emotions\"],\n",
    "                \"distress\": m[\"distress\"],\n",
    "                \"sender\": m.get(\"sender\",\"user\")\n",
    "            }\n",
    "            for m in v\n",
    "        ]\n",
    "        for k, v in sessions_messages.items()\n",
    "    }\n",
    "\n",
    "    # Create the main figures (Histogram, Timeline, etc.)\n",
    "    hist_fig = px.histogram(df_sessions, x=\"duration_minutes\", nbins=10,\n",
    "                            title=\"Session Duration Distribution\",\n",
    "                            labels={\"duration_minutes\": \"Minutes\"})\n",
    "\n",
    "    timeline_fig = go.Figure()\n",
    "    for _, row in df_sessions.iterrows():\n",
    "        timeline_fig.add_trace(go.Scatter(\n",
    "            x=[row[\"session_start\"], row[\"session_end\"]],\n",
    "            y=[f\"Session {row['session_id']}\"]*2,\n",
    "            mode=\"lines\",\n",
    "            line=dict(width=10),\n",
    "            name=f\"Session {row['session_id']}\",\n",
    "            customdata=[[str(row[\"session_id\"]), str(row[\"session_id\"])]],\n",
    "            hovertemplate=\"Session %{y}<br>Start: %{x}<extra></extra>\"\n",
    "        ))\n",
    "    timeline_fig.update_layout(\n",
    "        title=\"Session Timelines\",\n",
    "        xaxis=dict(rangeslider=dict(visible=True), type=\"date\"),\n",
    "        yaxis=dict(title=\"Sessions\"),\n",
    "        showlegend=False\n",
    "    )\n",
    "\n",
    "    avg_dur = df_sessions[\"duration_minutes\"].mean()\n",
    "    indicator_fig = go.Figure(go.Indicator(\n",
    "        mode=\"number\",\n",
    "        value=avg_dur,\n",
    "        title={\"text\": \"Avg Duration (min)\"}\n",
    "    ))\n",
    "\n",
    "    emo_fig = go.Figure(go.Bar(x=emotion_counts[\"emotion\"], y=emotion_counts[\"count\"]))\n",
    "    dist_fig = go.Figure(go.Pie(labels=distress_counts[\"distress\"], values=distress_counts[\"count\"]))\n",
    "\n",
    "    # Dashboard layout\n",
    "    fig = make_subplots(\n",
    "        rows=3, cols=2,\n",
    "        subplot_titles=(\"Durations\", \"Timelines\", \"Avg Duration\",\n",
    "                        \"Emotions\", \"Distress\", \"Flashcards\"),\n",
    "        specs=[[{\"type\":\"xy\"},{\"type\":\"xy\"}],\n",
    "               [{\"type\":\"indicator\"},{\"type\":\"xy\"}],\n",
    "               [{\"type\":\"domain\"},{\"type\":\"domain\"}]]\n",
    "    )\n",
    "\n",
    "    for t in hist_fig.data: fig.add_trace(t, row=1, col=1)\n",
    "    for t in timeline_fig.data: fig.add_trace(t, row=1, col=2)\n",
    "    for t in indicator_fig.data: fig.add_trace(t, row=2, col=1)\n",
    "    for t in emo_fig.data: fig.add_trace(t, row=2, col=2)\n",
    "    for t in dist_fig.data: fig.add_trace(t, row=3, col=1)\n",
    "\n",
    "    fig.update_layout(title_text=title, height=1200)\n",
    "\n",
    "    # =========================\n",
    "    # Add interactive flashcards via JS in HTML\n",
    "    # =========================\n",
    "    js_code = f\"\"\"\n",
    "<script>\n",
    "const sessions_messages = {{json.dumps(sessions_messages_fixed)}};\n",
    "document.addEventListener(\"DOMContentLoaded\", function(){{\n",
    "    const plots = document.getElementsByClassName('js-plotly-plot');\n",
    "    if(plots.length===0) return;\n",
    "    const plot = plots[0];\n",
    "\n",
    "    let overlay = document.createElement(\"div\");\n",
    "    overlay.id = \"flashOverlay\"; overlay.style.position=\"fixed\"; overlay.style.top=\"0\"; overlay.style.left=\"0\";\n",
    "    overlay.style.width=\"100%\"; overlay.style.height=\"100%\"; overlay.style.backgroundColor=\"rgba(0,0,0,0.5)\";\n",
    "    overlay.style.display=\"none\"; overlay.style.alignItems=\"center\"; overlay.style.justifyContent=\"center\"; overlay.style.zIndex=\"1000\";\n",
    "    document.body.appendChild(overlay);\n",
    "\n",
    "    let flashDiv = document.createElement(\"div\");\n",
    "    flashDiv.id=\"flashcard\"; flashDiv.style.border=\"1px solid #ddd\"; flashDiv.style.borderRadius=\"10px\";\n",
    "    flashDiv.style.boxShadow=\"0 2px 6px rgba(0,0,0,0.25)\"; flashDiv.style.padding=\"20px\"; flashDiv.style.width=\"60%\";\n",
    "    flashDiv.style.maxHeight=\"80%\"; flashDiv.style.overflowY=\"auto\"; flashDiv.style.backgroundColor=\"#fff\"; flashDiv.style.position=\"relative\";\n",
    "    overlay.appendChild(flashDiv);\n",
    "\n",
    "    let closeBtn=document.createElement(\"span\"); closeBtn.innerHTML=\"&times;\";\n",
    "    closeBtn.style.position=\"absolute\"; closeBtn.style.top=\"10px\"; closeBtn.style.right=\"15px\";\n",
    "    closeBtn.style.cursor=\"pointer\"; closeBtn.style.fontSize=\"22px\"; closeBtn.style.fontWeight=\"bold\";\n",
    "    flashDiv.appendChild(closeBtn);\n",
    "    closeBtn.onclick=()=>{{overlay.style.display=\"none\"}};\n",
    "    overlay.onclick=(e)=>{{if(e.target===overlay) overlay.style.display=\"none\"}};\n",
    "\n",
    "    function countFrequencies(arr){{\n",
    "        let freq={{}};\n",
    "        arr.forEach(v=>{{\n",
    "            if(Array.isArray(v)){{\n",
    "                v.forEach(e=>{{ let label=Array.isArray(e)?e[0]:e; freq[label]=(freq[label]||0)+1;}});\n",
    "            }} else {{ freq[v]=(freq[v]||0)+1; }}\n",
    "        }});\n",
    "        return freq;\n",
    "    }}\n",
    "\n",
    "    plot.on('plotly_click', function(data){{\n",
    "        const session_id=String(data.points[0].customdata[0]);\n",
    "        const messages=sessions_messages[session_id]; if(!messages) return;\n",
    "\n",
    "        flashDiv.innerHTML=\"\"; flashDiv.appendChild(closeBtn);\n",
    "        let header=document.createElement(\"h3\"); header.textContent=\"Session \"+session_id; flashDiv.appendChild(header);\n",
    "\n",
    "        let allEmo=[], allDist=[];\n",
    "        messages.forEach(m=>{{if(Array.isArray(m.emotions)) allEmo.push(m.emotions); if(Array.isArray(m.distress)) allDist.push(m.distress);}});\n",
    "        let emoCounts=countFrequencies(allEmo); let distCounts=countFrequencies(allDist);\n",
    "\n",
    "        let summary=document.createElement(\"div\");\n",
    "        summary.innerHTML=`<h4>Summary</h4>\n",
    "            <p><b>Start:</b>${{messages[0].timestamp}}</p>\n",
    "            <p><b>End:</b>${{messages[messages.length-1].timestamp}}</p>\n",
    "            <p><b>Messages:</b>${{messages.length}}</p>\n",
    "            <p><b>Emotions Occurred:</b><ul>${{Object.entries(emoCounts).map(([k,v])=>`<li>${{k}}: ${{v}}</li>`).join(\"\")}}</ul>\n",
    "            <p><b>Distress Conditions Occurred:</b><ul>${{Object.entries(distCounts).map(([k,v])=>`<li>${{k}}: ${{v}}</li>`).join(\"\")}}</ul>`;\n",
    "        flashDiv.appendChild(summary);\n",
    "\n",
    "        let log=document.createElement(\"div\"); log.style.marginTop=\"15px\"; log.innerHTML=\"<h4>Chat Log</h4>\";\n",
    "        let chatBox=document.createElement(\"div\"); chatBox.style.display=\"flex\"; chatBox.style.flexDirection=\"column\";\n",
    "        chatBox.style.gap=\"10px\"; chatBox.style.padding=\"10px\"; chatBox.style.border=\"1px solid #eee\";\n",
    "        chatBox.style.borderRadius=\"8px\"; chatBox.style.backgroundColor=\"#fafafa\"; chatBox.style.maxHeight=\"300px\"; chatBox.style.overflowY=\"auto\";\n",
    "\n",
    "        messages.forEach(m=>{{\n",
    "            let bubble=document.createElement(\"div\");\n",
    "            bubble.style.padding=\"8px 12px\"; bubble.style.borderRadius=\"8px\"; bubble.style.maxWidth=\"75%\";\n",
    "            bubble.style.wordWrap=\"break-word\"; bubble.style.fontSize=\"14px\"; bubble.style.lineHeight=\"1.4\";\n",
    "            bubble.style.boxShadow=\"0 1px 3px rgba(0,0,0,0.1)\";\n",
    "            if(m.sender===\"user\"){{ bubble.style.alignSelf=\"flex-end\"; bubble.style.backgroundColor=\"#d1e7dd\"; }}\n",
    "            else {{ bubble.style.alignSelf=\"flex-start\"; bubble.style.backgroundColor=\"#f8d7da\"; }}\n",
    "            const emoLabels=Array.isArray(m.emotions)? m.emotions.map(e=>Array.isArray(e)?e[0]:e).join(\", \"):\"\";\n",
    "            const distLabels=Array.isArray(m.distress)? m.distress.map(e=>Array.isArray(e)?e[0]:e).join(\", \"):\"\";\n",
    "            bubble.innerHTML=`<b>[${{m.timestamp}}]</b><br>${{m.user_input||m.bot_response}}<br>\n",
    "                <small>Emotions: ${{emoLabels}} | Distress: ${{distLabels}}</small>`;\n",
    "            chatBox.appendChild(bubble);\n",
    "        }});\n",
    "        log.appendChild(chatBox); flashDiv.appendChild(log); overlay.style.display=\"flex\";\n",
    "    }});\n",
    "}});\n",
    "</script>\n",
    "    \"\"\"\n",
    "\n",
    "    # Save session summary JSON\n",
    "    summary_path = save_path.replace(\".html\", \"_session_summary.json\")\n",
    "    with open(summary_path, \"w\", encoding=\"utf-8\") as f:\n",
    "        json.dump(sessions_messages_fixed, f, ensure_ascii=False, indent=4)\n",
    "\n",
    "    # Write HTML dashboard with embedded JS\n",
    "    fig.write_html(save_path, include_plotlyjs='cdn', full_html=True)\n",
    "    with open(save_path, \"a\", encoding=\"utf-8\") as f:\n",
    "        f.write(js_code)\n",
    "    print(f\"✅ Dashboard with flashcards saved: {save_path}\")\n",
    "    print(f\"✅ Session summary saved: {summary_path}\")\n",
    "\n",
    "\n",
    "# =========================\n",
    "# Main update function\n",
    "# =========================\n",
    "def update_dashboards():\n",
    "    df = load_chat_logs(logs_path)\n",
    "\n",
    "    # Session info\n",
    "    session_info = df.groupby(\"session_id\").agg(\n",
    "        session_start=(\"timestamp\", \"min\"),\n",
    "        session_end=(\"timestamp\", \"max\"),\n",
    "        message_count=(\"user_input\", \"count\")\n",
    "    ).reset_index()\n",
    "    session_info[\"session_duration\"] = session_info[\"session_end\"] - session_info[\"session_start\"]\n",
    "    session_info[\"duration_minutes\"] = session_info[\"session_duration\"].dt.total_seconds() / 60\n",
    "\n",
    "    # Store session messages\n",
    "    sessions_messages = {\n",
    "        s: df[df[\"session_id\"] == s][[\"timestamp\",\"user_input\",\"bot_response\",\"emotions\",\"distress\",\"sender\"]].to_dict(\"records\")\n",
    "        for s in df[\"session_id\"].unique()\n",
    "    }\n",
    "\n",
    "    # Save JSON summaries\n",
    "    save_session_summary_json(sessions_messages, reports_dir)\n",
    "\n",
    "    # Overall dashboard\n",
    "    overall_emo, overall_dist = compute_counts(df)\n",
    "    generate_dashboard(\n",
    "        session_info,\n",
    "        \"Overall Sessions Dashboard\",\n",
    "        os.path.join(reports_dir, \"overall_sessions_dashboard.html\"),\n",
    "        sessions_messages,\n",
    "        overall_emo,\n",
    "        overall_dist\n",
    "    )\n",
    "\n",
    "    # Present session dashboard\n",
    "    latest_session_id = session_info[\"session_id\"].max()\n",
    "    present_df = df[df[\"session_id\"] == latest_session_id]\n",
    "    present_info = session_info[session_info[\"session_id\"] == latest_session_id]\n",
    "    present_emo, present_dist = compute_counts(present_df)\n",
    "    generate_dashboard(\n",
    "        present_info,\n",
    "        f\"Present Session Dashboard (Session {latest_session_id})\",\n",
    "        os.path.join(reports_dir, \"present_session_dashboard.html\"),\n",
    "        sessions_messages,\n",
    "        present_emo,\n",
    "        present_dist\n",
    "    )\n",
    "    print(\"✅ All dashboards and session summaries updated successfully.\")\n",
    "\n",
    "# =========================\n",
    "# Run update\n",
    "# =========================\n",
    "if __name__ == \"__main__\":\n",
    "    update_dashboards()\n"
   ]
  },
  {
   "cell_type": "code",
   "execution_count": null,
   "id": "c0fc53ae",
   "metadata": {},
   "outputs": [],
   "source": []
  },
  {
   "cell_type": "code",
   "execution_count": null,
   "id": "bdec093c",
   "metadata": {},
   "outputs": [],
   "source": []
  },
  {
   "cell_type": "code",
   "execution_count": 43,
   "id": "17744a79",
   "metadata": {},
   "outputs": [
    {
     "name": "stdout",
     "output_type": "stream",
     "text": [
      "✅ Dashboard with flashcards saved: c:\\Users\\rijju\\Desktop\\mental-health-chatbot\\results\\reports\\overall_sessions_dashboard.html\n",
      "✅ Session summary saved: c:\\Users\\rijju\\Desktop\\mental-health-chatbot\\results\\reports\\overall_sessions_dashboard_session_summary.json\n",
      "✅ Dashboard with flashcards saved: c:\\Users\\rijju\\Desktop\\mental-health-chatbot\\results\\reports\\present_session_dashboard.html\n",
      "✅ Session summary saved: c:\\Users\\rijju\\Desktop\\mental-health-chatbot\\results\\reports\\present_session_dashboard_session_summary.json\n",
      "✅ All dashboards and session summaries updated successfully.\n"
     ]
    }
   ],
   "source": [
    "# ===========================================\n",
    "# Phase 3 – Logging, Visualization & Reports (Dynamic & Flashcard Version with JSON)\n",
    "# ===========================================\n",
    "\n",
    "import pandas as pd\n",
    "import numpy as np\n",
    "import plotly.express as px\n",
    "import plotly.graph_objects as go\n",
    "from plotly.subplots import make_subplots\n",
    "from datetime import datetime\n",
    "import ast, json, os\n",
    "\n",
    "# =========================\n",
    "# Paths\n",
    "# =========================\n",
    "results_dir = os.path.abspath(\"../results\")\n",
    "reports_dir = os.path.join(results_dir, \"reports\")\n",
    "os.makedirs(reports_dir, exist_ok=True)\n",
    "\n",
    "logs_path = os.path.join(results_dir, \"logs\", \"chatbot_logs.csv\")\n",
    "\n",
    "# =========================\n",
    "# Safe parse of emotions & distress\n",
    "# =========================\n",
    "def parse_column(x):\n",
    "    if pd.isna(x) or x == \"\":\n",
    "        return []\n",
    "    if isinstance(x, str):\n",
    "        try:\n",
    "            return ast.literal_eval(x)\n",
    "        except Exception:\n",
    "            return []\n",
    "    return x\n",
    "\n",
    "# =========================\n",
    "# Helpers for emotion & distress counts\n",
    "# =========================\n",
    "def flatten_first_element(lst):\n",
    "    return [e[0] for row in lst for e in row if isinstance(e, (list, tuple)) and len(e) > 0]\n",
    "\n",
    "def compute_counts(df_subset):\n",
    "    emotions = flatten_first_element(df_subset.get(\"emotions\", []))\n",
    "    distress = flatten_first_element(df_subset.get(\"distress\", []))\n",
    "    emo_counts = pd.Series(emotions).value_counts().reset_index() if emotions else pd.DataFrame(columns=[\"emotion\",\"count\"])\n",
    "    emo_counts.columns = [\"emotion\", \"count\"]\n",
    "    dist_counts = pd.Series(distress).value_counts().reset_index() if distress else pd.DataFrame(columns=[\"distress\",\"count\"])\n",
    "    dist_counts.columns = [\"distress\", \"count\"]\n",
    "    return emo_counts, dist_counts\n",
    "\n",
    "# =========================\n",
    "# Load chat logs dynamically\n",
    "# =========================\n",
    "def load_chat_logs(logs_path):\n",
    "    df = pd.read_csv(logs_path, parse_dates=[\"timestamp\"])\n",
    "    df[\"emotions\"] = df.get(\"emotions\", pd.Series([[]]*len(df))).apply(parse_column)\n",
    "    df[\"distress\"] = df.get(\"distress\", pd.Series([[]]*len(df))).apply(parse_column)\n",
    "    \n",
    "    # Session handling (30 min timeout)\n",
    "    session_timeout = pd.Timedelta(minutes=30)\n",
    "    df = df.sort_values(\"timestamp\").reset_index(drop=True)\n",
    "    \n",
    "    sessions, current_session, last_time = [], 0, df.loc[0, \"timestamp\"]\n",
    "    for _, row in df.iterrows():\n",
    "        if row[\"timestamp\"] - last_time > session_timeout:\n",
    "            current_session += 1\n",
    "        sessions.append(current_session)\n",
    "        last_time = row[\"timestamp\"]\n",
    "    df[\"session_id\"] = sessions\n",
    "    return df\n",
    "\n",
    "# =========================\n",
    "# Save session summary JSON\n",
    "# =========================\n",
    "def save_session_summary_json(sessions_messages, save_dir):\n",
    "    for session_id, messages in sessions_messages.items():\n",
    "        if not messages:\n",
    "            continue\n",
    "\n",
    "        # Convert timestamps to strings and handle NaT\n",
    "        for m in messages:\n",
    "            ts = m.get(\"timestamp\")\n",
    "            if pd.isna(ts) or ts is pd.NaT:\n",
    "                m[\"timestamp\"] = None\n",
    "            elif isinstance(ts, pd.Timestamp):\n",
    "                m[\"timestamp\"] = ts.isoformat()\n",
    "            else:\n",
    "                m[\"timestamp\"] = str(ts)\n",
    "\n",
    "        all_emo = [e[0] for row in messages for e in row.get(\"emotions\", []) if isinstance(e, (list, tuple)) and len(e) > 0]\n",
    "        all_dist = [d[0] for row in messages for d in row.get(\"distress\", []) if isinstance(d, (list, tuple)) and len(d) > 0]\n",
    "\n",
    "        summary = {\n",
    "            \"session_id\": int(session_id),\n",
    "            \"start_time\": messages[0][\"timestamp\"],\n",
    "            \"end_time\": messages[-1][\"timestamp\"],\n",
    "            \"message_count\": int(len(messages)),\n",
    "            \"emotions_count\": {str(k): int(all_emo.count(k)) for k in set(all_emo)},\n",
    "            \"distress_count\": {str(k): int(all_dist.count(k)) for k in set(all_dist)},\n",
    "            \"chat_log\": messages\n",
    "        }\n",
    "\n",
    "        json_path = os.path.join(save_dir, f\"session_{session_id}_summary.json\")\n",
    "        with open(json_path, \"w\", encoding=\"utf-8\") as f:\n",
    "            json.dump(summary, f, ensure_ascii=False, indent=2)\n",
    "\n",
    "\n",
    "# =========================\n",
    "# Dashboard generator\n",
    "# =========================\n",
    "def generate_dashboard(df_sessions, title, save_path, sessions_messages, emotion_counts, distress_counts):\n",
    "    # Convert session keys to strings for JS\n",
    "    sessions_messages_fixed = {\n",
    "        str(k): [\n",
    "            {\n",
    "                \"timestamp\": str(m[\"timestamp\"]),\n",
    "                \"user_input\": m.get(\"user_input\",\"\"),\n",
    "                \"bot_response\": m.get(\"bot_response\",\"\"),\n",
    "                \"emotions\": m.get(\"emotions\", []),\n",
    "                \"distress\": m.get(\"distress\", []),\n",
    "                \"sender\": m.get(\"sender\",\"user\")\n",
    "            }\n",
    "            for m in v\n",
    "        ]\n",
    "        for k, v in sessions_messages.items()\n",
    "    }\n",
    "\n",
    "    # Main figures\n",
    "    hist_fig = px.histogram(df_sessions, x=\"duration_minutes\", nbins=10, title=\"Session Duration Distribution\", labels={\"duration_minutes\": \"Minutes\"})\n",
    "\n",
    "    timeline_fig = go.Figure()\n",
    "    for _, row in df_sessions.iterrows():\n",
    "        timeline_fig.add_trace(go.Scatter(\n",
    "            x=[row[\"session_start\"], row[\"session_end\"]],\n",
    "            y=[f\"Session {row['session_id']}\"]*2,\n",
    "            mode=\"lines\",\n",
    "            line=dict(width=10),\n",
    "            name=f\"Session {row['session_id']}\",\n",
    "            customdata=[[str(row[\"session_id\"]), str(row[\"session_id\"])]],\n",
    "            hovertemplate=\"Session %{y}<br>Start: %{x}<extra></extra>\"\n",
    "        ))\n",
    "    timeline_fig.update_layout(title=\"Session Timelines\", xaxis=dict(rangeslider=dict(visible=True), type=\"date\"), yaxis=dict(title=\"Sessions\"), showlegend=False)\n",
    "\n",
    "    avg_dur = df_sessions[\"duration_minutes\"].mean() if not df_sessions.empty else 0\n",
    "    indicator_fig = go.Figure(go.Indicator(mode=\"number\", value=avg_dur, title={\"text\": \"Avg Duration (min)\"}))\n",
    "\n",
    "    emo_fig = go.Figure(go.Bar(x=emotion_counts[\"emotion\"], y=emotion_counts[\"count\"])) if not emotion_counts.empty else go.Figure()\n",
    "    dist_fig = go.Figure(go.Pie(labels=distress_counts[\"distress\"], values=distress_counts[\"count\"])) if not distress_counts.empty else go.Figure()\n",
    "\n",
    "    # Dashboard layout\n",
    "    fig = make_subplots(\n",
    "        rows=3, cols=2,\n",
    "        subplot_titles=(\"Durations\", \"Timelines\", \"Avg Duration\", \"Emotions\", \"Distress\", \"Flashcards\"),\n",
    "        specs=[[{\"type\":\"xy\"},{\"type\":\"xy\"}],\n",
    "               [{\"type\":\"indicator\"},{\"type\":\"xy\"}],\n",
    "               [{\"type\":\"domain\"},{\"type\":\"domain\"}]]\n",
    "    )\n",
    "\n",
    "    for t in hist_fig.data: fig.add_trace(t, row=1, col=1)\n",
    "    for t in timeline_fig.data: fig.add_trace(t, row=1, col=2)\n",
    "    for t in indicator_fig.data: fig.add_trace(t, row=2, col=1)\n",
    "    for t in emo_fig.data: fig.add_trace(t, row=2, col=2)\n",
    "    for t in dist_fig.data: fig.add_trace(t, row=3, col=1)\n",
    "\n",
    "    fig.update_layout(title_text=title, height=1200)\n",
    "\n",
    "    # =========================\n",
    "    # Add JS flashcards\n",
    "    # =========================\n",
    "    js_code = f\"\"\"\n",
    "<script>\n",
    "const sessions_messages = {json.dumps(sessions_messages_fixed)};\n",
    "document.addEventListener(\"DOMContentLoaded\", function(){{\n",
    "    const plots = document.getElementsByClassName('js-plotly-plot');\n",
    "    if(plots.length===0) return;\n",
    "    const plot = plots[0];\n",
    "\n",
    "    let overlay = document.createElement(\"div\");\n",
    "    overlay.id = \"flashOverlay\"; overlay.style.position=\"fixed\"; overlay.style.top=\"0\"; overlay.style.left=\"0\";\n",
    "    overlay.style.width=\"100%\"; overlay.style.height=\"100%\"; overlay.style.backgroundColor=\"rgba(0,0,0,0.5)\";\n",
    "    overlay.style.display=\"none\"; overlay.style.alignItems=\"center\"; overlay.style.justifyContent=\"center\"; overlay.style.zIndex=\"1000\";\n",
    "    document.body.appendChild(overlay);\n",
    "\n",
    "    let flashDiv = document.createElement(\"div\");\n",
    "    flashDiv.id=\"flashcard\"; flashDiv.style.border=\"1px solid #ddd\"; flashDiv.style.borderRadius=\"10px\";\n",
    "    flashDiv.style.boxShadow=\"0 2px 6px rgba(0,0,0,0.25)\"; flashDiv.style.padding=\"20px\"; flashDiv.style.width=\"60%\";\n",
    "    flashDiv.style.maxHeight=\"80%\"; flashDiv.style.overflowY=\"auto\"; flashDiv.style.backgroundColor=\"#fff\"; flashDiv.style.position=\"relative\";\n",
    "    overlay.appendChild(flashDiv);\n",
    "\n",
    "    let closeBtn=document.createElement(\"span\"); closeBtn.innerHTML=\"&times;\";\n",
    "    closeBtn.style.position=\"absolute\"; closeBtn.style.top=\"10px\"; closeBtn.style.right=\"15px\";\n",
    "    closeBtn.style.cursor=\"pointer\"; closeBtn.style.fontSize=\"22px\"; closeBtn.style.fontWeight=\"bold\";\n",
    "    flashDiv.appendChild(closeBtn);\n",
    "    closeBtn.onclick=()=>{{overlay.style.display=\"none\"}};\n",
    "    overlay.onclick=(e)=>{{if(e.target===overlay) overlay.style.display=\"none\"}};\n",
    "\n",
    "    function countFrequencies(arr){{\n",
    "        let freq={{}};\n",
    "        arr.forEach(v=>{{\n",
    "            if(Array.isArray(v)){{\n",
    "                v.forEach(e=>{{ let label=Array.isArray(e)?e[0]:e; freq[label]=(freq[label]||0)+1;}});}}\n",
    "            else {{ freq[v]=(freq[v]||0)+1; }}\n",
    "        }});\n",
    "        return freq;\n",
    "    }}\n",
    "\n",
    "    plot.on('plotly_click', function(data){{\n",
    "        const session_id=String(data.points[0].customdata[0]);\n",
    "        const messages=sessions_messages[session_id]; if(!messages) return;\n",
    "\n",
    "        flashDiv.innerHTML=\"\"; flashDiv.appendChild(closeBtn);\n",
    "        let header=document.createElement(\"h3\"); header.textContent=\"Session \"+session_id; flashDiv.appendChild(header);\n",
    "\n",
    "        let allEmo=[], allDist=[];\n",
    "        messages.forEach(m=>{{if(Array.isArray(m.emotions)) allEmo.push(m.emotions); if(Array.isArray(m.distress)) allDist.push(m.distress);}});\n",
    "        let emoCounts=countFrequencies(allEmo); let distCounts=countFrequencies(allDist);\n",
    "\n",
    "        let summary=document.createElement(\"div\");\n",
    "        summary.innerHTML=`<h4>Summary</h4>\n",
    "            <p><b>Start:</b>${{messages[0].timestamp}}</p>\n",
    "            <p><b>End:</b>${{messages[messages.length-1].timestamp}}</p>\n",
    "            <p><b>Messages:</b>${{messages.length}}</p>\n",
    "            <p><b>Emotions Occurred:</b><ul>${{Object.entries(emoCounts).map(([k,v])=>`<li>${{k}}: ${{v}}</li>`).join(\"\")}}</ul>\n",
    "            <p><b>Distress Conditions Occurred:</b><ul>${{Object.entries(distCounts).map(([k,v])=>`<li>${{k}}: ${{v}}</li>`).join(\"\")}}</ul>`;\n",
    "        flashDiv.appendChild(summary);\n",
    "\n",
    "        let log=document.createElement(\"div\"); log.style.marginTop=\"15px\"; log.innerHTML=\"<h4>Chat Log</h4>\";\n",
    "        let chatBox=document.createElement(\"div\"); chatBox.style.display=\"flex\"; chatBox.style.flexDirection=\"column\";\n",
    "        chatBox.style.gap=\"10px\"; chatBox.style.padding=\"10px\"; chatBox.style.border=\"1px solid #eee\";\n",
    "        chatBox.style.borderRadius=\"8px\"; chatBox.style.backgroundColor=\"#fafafa\"; chatBox.style.maxHeight=\"300px\"; chatBox.style.overflowY=\"auto\";\n",
    "\n",
    "        messages.forEach(m=>{{\n",
    "            let bubble=document.createElement(\"div\");\n",
    "            bubble.style.padding=\"8px 12px\"; bubble.style.borderRadius=\"8px\"; bubble.style.maxWidth=\"75%\";\n",
    "            bubble.style.wordWrap=\"break-word\"; bubble.style.fontSize=\"14px\"; bubble.style.lineHeight=\"1.4\";\n",
    "            bubble.style.boxShadow=\"0 1px 3px rgba(0,0,0,0.1)\";\n",
    "            if(m.sender===\"user\"){{ bubble.style.alignSelf=\"flex-end\"; bubble.style.backgroundColor=\"#d1e7dd\"; }}\n",
    "            else {{ bubble.style.alignSelf=\"flex-start\"; bubble.style.backgroundColor=\"#f8d7da\"; }}\n",
    "            const emoLabels=Array.isArray(m.emotions)? m.emotions.map(e=>Array.isArray(e)?e[0]:e).join(\", \"):\"\";\n",
    "            const distLabels=Array.isArray(m.distress)? m.distress.map(e=>Array.isArray(e)?e[0]:e).join(\", \"):\"\";\n",
    "            bubble.innerHTML=`<b>[${{m.timestamp}}]</b><br>${{m.user_input||m.bot_response}}<br>\n",
    "                <small>Emotions: ${{emoLabels}} | Distress: ${{distLabels}}</small>`;\n",
    "            chatBox.appendChild(bubble);\n",
    "        }});\n",
    "        log.appendChild(chatBox); flashDiv.appendChild(log); overlay.style.display=\"flex\";\n",
    "    }});\n",
    "}});\n",
    "</script>\n",
    "    \"\"\"\n",
    "\n",
    "    # Save session summary JSON\n",
    "    summary_path = save_path.replace(\".html\", \"_session_summary.json\")\n",
    "    with open(summary_path, \"w\", encoding=\"utf-8\") as f:\n",
    "        json.dump(sessions_messages_fixed, f, ensure_ascii=False, indent=4)\n",
    "\n",
    "    # Write HTML dashboard with embedded JS\n",
    "    fig.write_html(save_path, include_plotlyjs='cdn', full_html=True)\n",
    "    with open(save_path, \"a\", encoding=\"utf-8\") as f:\n",
    "        f.write(js_code)\n",
    "    print(f\"✅ Dashboard with flashcards saved: {save_path}\")\n",
    "    print(f\"✅ Session summary saved: {summary_path}\")\n",
    "\n",
    "# =========================\n",
    "# Main update function\n",
    "# =========================\n",
    "def update_dashboards():\n",
    "    df = load_chat_logs(logs_path)\n",
    "\n",
    "    # Session info\n",
    "    session_info = df.groupby(\"session_id\").agg(\n",
    "        session_start=(\"timestamp\", \"min\"),\n",
    "        session_end=(\"timestamp\", \"max\"),\n",
    "        message_count=(\"user_input\", \"count\")\n",
    "    ).reset_index()\n",
    "    session_info[\"session_duration\"] = session_info[\"session_end\"] - session_info[\"session_start\"]\n",
    "    session_info[\"duration_minutes\"] = session_info[\"session_duration\"].dt.total_seconds() / 60\n",
    "\n",
    "    # Store session messages safely\n",
    "    sessions_messages = {}\n",
    "    for s in df[\"session_id\"].unique():\n",
    "        session_df = df[df[\"session_id\"] == s].copy()\n",
    "        if \"bot_response\" not in session_df.columns:\n",
    "            session_df[\"bot_response\"] = \"\"\n",
    "        if \"sender\" not in session_df.columns:\n",
    "            session_df[\"sender\"] = \"user\"\n",
    "        sessions_messages[s] = session_df[[\"timestamp\",\"user_input\",\"bot_response\",\"emotions\",\"distress\",\"sender\"]].to_dict(\"records\")\n",
    "\n",
    "    # Save JSON summaries\n",
    "    save_session_summary_json(sessions_messages, reports_dir)\n",
    "\n",
    "    # Overall dashboard\n",
    "    overall_emo, overall_dist = compute_counts(df)\n",
    "    generate_dashboard(\n",
    "        session_info,\n",
    "        \"Overall Sessions Dashboard\",\n",
    "        os.path.join(reports_dir, \"overall_sessions_dashboard.html\"),\n",
    "        sessions_messages,\n",
    "        overall_emo,\n",
    "        overall_dist\n",
    "    )\n",
    "\n",
    "    # Present session dashboard (latest session)\n",
    "    if not session_info.empty:\n",
    "        latest_session_id = session_info[\"session_id\"].max()\n",
    "        present_df = df[df[\"session_id\"] == latest_session_id]\n",
    "        present_info = session_info[session_info[\"session_id\"] == latest_session_id]\n",
    "        present_emo, present_dist = compute_counts(present_df)\n",
    "        generate_dashboard(\n",
    "            present_info,\n",
    "            f\"Present Session Dashboard (Session {latest_session_id})\",\n",
    "            os.path.join(reports_dir, \"present_session_dashboard.html\"),\n",
    "            sessions_messages,\n",
    "            present_emo,\n",
    "            present_dist\n",
    "        )\n",
    "\n",
    "    print(\"✅ All dashboards and session summaries updated successfully.\")\n",
    "\n",
    "# =========================\n",
    "# Run update\n",
    "# =========================\n",
    "if __name__ == \"__main__\":\n",
    "    update_dashboards()\n"
   ]
  },
  {
   "cell_type": "code",
   "execution_count": null,
   "id": "d77b1c7b",
   "metadata": {},
   "outputs": [],
   "source": []
  }
 ],
 "metadata": {
  "kernelspec": {
   "display_name": "myenv",
   "language": "python",
   "name": "python3"
  },
  "language_info": {
   "codemirror_mode": {
    "name": "ipython",
    "version": 3
   },
   "file_extension": ".py",
   "mimetype": "text/x-python",
   "name": "python",
   "nbconvert_exporter": "python",
   "pygments_lexer": "ipython3",
   "version": "3.12.3"
  }
 },
 "nbformat": 4,
 "nbformat_minor": 5
}
